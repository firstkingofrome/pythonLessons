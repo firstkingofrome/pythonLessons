{
 "cells": [
  {
   "cell_type": "markdown",
   "id": "c36426fc-e8b5-4554-a5ff-474a2fe1fb54",
   "metadata": {},
   "source": [
    "Todays lecture is more theoretical than any of the other ones I will give. Its purpose is to give you a basic understanding of what computers actually do. The difference between compiled and interpreted computer programming languages and some of the costs and benifits of each.\n",
    "\n",
    "I will be using a c program to make a few points, but I dont expect you to learn C and it will otherwise be irrelevent after today\n",
    "\n",
    "If you are interested in more details about this process I recommend this lecture which I think is particularly good: https://www.cise.ufl.edu/~mssz/CompOrg/CDA-lang.html\n",
    "Its also the place I stole these diagrams from."
   ]
  },
  {
   "cell_type": "markdown",
   "id": "eaaacb37-cfb9-4b00-b364-57197117dce0",
   "metadata": {},
   "source": [
    "## Turring Machine\n",
    "\n",
    "* A turring machine is the mathamatical model that we use to think about computers\n",
    "\n",
    "* Any computer you are ever likely to work on (unless quantum computers or some other non classical computer becomes availbile) will likely be a type of turring machine\n",
    "\n",
    "* Show the demo on turring machines: https://turingmachine.io/\n",
    "\n",
    "* Very breifly explain the concept of computability. Rather than showing any real proofs hand wave this by pointing out that everyones problems in the physical universe are not discrete while everything in a computer IS discrete\n",
    "\n",
    "* (also in the interest of honesty real computers are best described as finite state machines https://en.wikipedia.org/wiki/Finite-state_machine which is a subset of turring machines with finite tape lengths)\n",
    "\n",
    "* This is an area of great personal interest to me, but further details are mostly irrelevent. If you are interested in more details I would start here https://en.wikipedia.org/wiki/Oracle_machine\n",
    "\n",
    "\n",
    "\n",
    "### Any opperation you can do on a computer will there for be reducible to a sequence of three opperations:\n",
    "\n",
    "1. read\n",
    "\n",
    "2. write (or overwrite or delete)\n",
    "\n",
    "3. and move the position on the tape"
   ]
  },
  {
   "cell_type": "markdown",
   "id": "44a8c427-de9b-46f9-aae9-ddc1fc673d42",
   "metadata": {},
   "source": [
    "# Boolean Algebra\n",
    "\n",
    "* Do the example of adding two number in base 2 on the white board\n",
    "* Boolean algebra is \n",
    "* Boolean Algebra is the basis on which all math a computer complete is based (i.e. opperations are defined as bit 1 and bit 2\n",
    "* show the bit adder example https://www.wolfram.com/system-modeler/examples/more/electrical-engineering/8-bit-adder\n",
    "* While any opperation can be reduced to the three opperations I described above, most computer processors offer a large number of more precise instructions (i,e, it is much more efficient to use a bit adder (typically accessed with the add instruction) than it is to manually specify an addition opperation as read write and shift opperations).\n",
    "\n"
   ]
  },
  {
   "cell_type": "code",
   "execution_count": 3,
   "id": "4ae581f0-c346-42d6-8acb-25c245177219",
   "metadata": {},
   "outputs": [
    {
     "data": {
      "text/plain": [
       "'0b1111011'"
      ]
     },
     "execution_count": 3,
     "metadata": {},
     "output_type": "execute_result"
    }
   ],
   "source": [
    "bin(123)"
   ]
  },
  {
   "cell_type": "code",
   "execution_count": 9,
   "id": "ca38f638-1908-4f36-93bb-ac41df99326d",
   "metadata": {},
   "outputs": [
    {
     "data": {
      "text/plain": [
       "'0xc'"
      ]
     },
     "execution_count": 9,
     "metadata": {},
     "output_type": "execute_result"
    }
   ],
   "source": [
    "hex(12)"
   ]
  },
  {
   "cell_type": "code",
   "execution_count": 18,
   "id": "adda4dac-dc2e-47ac-b1db-3b8682978e55",
   "metadata": {},
   "outputs": [
    {
     "data": {
      "text/plain": [
       "32"
      ]
     },
     "execution_count": 18,
     "metadata": {},
     "output_type": "execute_result"
    }
   ],
   "source": [
    "2**5"
   ]
  },
  {
   "cell_type": "code",
   "execution_count": 19,
   "id": "1f3a93c2-96b9-4de8-9312-0cf024796b9b",
   "metadata": {},
   "outputs": [
    {
     "data": {
      "text/plain": [
       "32"
      ]
     },
     "execution_count": 19,
     "metadata": {},
     "output_type": "execute_result"
    }
   ],
   "source": [
    "19+13"
   ]
  },
  {
   "cell_type": "code",
   "execution_count": 11,
   "id": "28acd7ce-38be-4fa1-ba69-049544c8823d",
   "metadata": {},
   "outputs": [],
   "source": [
    "### Bit wise opperators \n",
    "\n",
    "x=16\n",
    "y=1\n",
    "\n"
   ]
  },
  {
   "cell_type": "code",
   "execution_count": 12,
   "id": "6af0be62-6811-42a9-9ce8-331ff82b3c8d",
   "metadata": {},
   "outputs": [
    {
     "data": {
      "text/plain": [
       "int"
      ]
     },
     "execution_count": 12,
     "metadata": {},
     "output_type": "execute_result"
    }
   ],
   "source": [
    "type(x)\n"
   ]
  },
  {
   "cell_type": "code",
   "execution_count": 13,
   "id": "3318d8eb-a352-4db2-8a3a-d222f3cbc1b3",
   "metadata": {},
   "outputs": [
    {
     "data": {
      "text/plain": [
       "int"
      ]
     },
     "execution_count": 13,
     "metadata": {},
     "output_type": "execute_result"
    }
   ],
   "source": [
    "type(y)"
   ]
  },
  {
   "cell_type": "code",
   "execution_count": 14,
   "id": "5f8b299c-3d59-4ace-9c12-bdf9f42a20e7",
   "metadata": {},
   "outputs": [
    {
     "data": {
      "text/plain": [
       "'0b10000'"
      ]
     },
     "execution_count": 14,
     "metadata": {},
     "output_type": "execute_result"
    }
   ],
   "source": [
    "bin(16)"
   ]
  },
  {
   "cell_type": "code",
   "execution_count": 15,
   "id": "26fc636b-8c3f-4621-9256-ab9c8eb2a868",
   "metadata": {},
   "outputs": [
    {
     "data": {
      "text/plain": [
       "'0b1'"
      ]
     },
     "execution_count": 15,
     "metadata": {},
     "output_type": "execute_result"
    }
   ],
   "source": [
    "bin(1)"
   ]
  },
  {
   "cell_type": "code",
   "execution_count": 16,
   "id": "a226ca11-f5b8-4951-942d-a2f10ba117b1",
   "metadata": {},
   "outputs": [
    {
     "data": {
      "text/plain": [
       "0"
      ]
     },
     "execution_count": 16,
     "metadata": {},
     "output_type": "execute_result"
    }
   ],
   "source": [
    "#and\n",
    "x & y\n"
   ]
  },
  {
   "cell_type": "code",
   "execution_count": 18,
   "id": "6ba207e0-1a15-4d38-8790-d75cb296829c",
   "metadata": {},
   "outputs": [
    {
     "data": {
      "text/plain": [
       "17"
      ]
     },
     "execution_count": 18,
     "metadata": {},
     "output_type": "execute_result"
    }
   ],
   "source": [
    "#or \n",
    "x | y"
   ]
  },
  {
   "cell_type": "code",
   "execution_count": 19,
   "id": "97498fe9-9757-4579-ab40-6580a15c0286",
   "metadata": {},
   "outputs": [
    {
     "data": {
      "text/plain": [
       "True"
      ]
     },
     "execution_count": 19,
     "metadata": {},
     "output_type": "execute_result"
    }
   ],
   "source": [
    "True and True"
   ]
  },
  {
   "cell_type": "code",
   "execution_count": 20,
   "id": "6470f1fa-d2fc-487a-89d1-386f33486a92",
   "metadata": {},
   "outputs": [
    {
     "data": {
      "text/plain": [
       "True"
      ]
     },
     "execution_count": 20,
     "metadata": {},
     "output_type": "execute_result"
    }
   ],
   "source": [
    "True or False"
   ]
  },
  {
   "cell_type": "markdown",
   "id": "444902c8-5057-4c59-b71f-c377011e38f6",
   "metadata": {},
   "source": [
    "### Compiled Program Process\n",
    "\n",
    "![title](compilationProcess.gif)\n"
   ]
  },
  {
   "cell_type": "markdown",
   "id": "b57a3020-0747-4514-b822-09d8fc2448ed",
   "metadata": {},
   "source": [
    "### interpreted program process\n",
    "\n",
    "![title](compilationProcess.gif)"
   ]
  },
  {
   "cell_type": "markdown",
   "id": "9190cda7-358a-4246-8eaf-ecf1c3340255",
   "metadata": {},
   "source": [
    "### The primary difference to understand is that an interpreter basically evaluates every instruction, line by line\n",
    "\n",
    "\n",
    "* In general, interpreted languages are slower than compiled languages but can offer substantially greater flexiblity\n",
    "\n",
    "* It is common practice to write some critical functions in a compiled language which can then be called by an interpreted langauge.\n",
    "\n",
    "* For example most of the functions in numpy that do the actual calculations are written in C"
   ]
  },
  {
   "cell_type": "code",
   "execution_count": 35,
   "id": "29141dc7-eacd-4299-b25a-9e40c3808be7",
   "metadata": {},
   "outputs": [],
   "source": [
    "def sumList(List):\n",
    "    total=0\n",
    "    for item in List:\n",
    "        total+=item\n",
    "    return total"
   ]
  },
  {
   "cell_type": "code",
   "execution_count": null,
   "id": "90cd6ec9-67fe-46b1-b1a4-0cd2a3d689d8",
   "metadata": {},
   "outputs": [],
   "source": []
  },
  {
   "cell_type": "code",
   "execution_count": 36,
   "id": "8307e0f9-c370-4ce3-8e22-07b13d295e69",
   "metadata": {},
   "outputs": [
    {
     "name": "stdout",
     "output_type": "stream",
     "text": [
      "517 µs ± 20.3 µs per loop (mean ± std. dev. of 7 runs, 1000 loops each)\n"
     ]
    }
   ],
   "source": [
    "numbers=[i for i in range(10000)]\n",
    "%timeit sumList(numbers)"
   ]
  },
  {
   "cell_type": "code",
   "execution_count": 43,
   "id": "c196b8b7-6cff-4cf2-be6d-50921f65b6dd",
   "metadata": {},
   "outputs": [],
   "source": [
    "#numbers"
   ]
  },
  {
   "cell_type": "markdown",
   "id": "287e7489-8da5-4b9d-9934-d0d21c5beaeb",
   "metadata": {},
   "source": [
    "### cut the section on wrapping c programs, dont have enough time. This is a good reference https://intermediate-and-advanced-software-carpentry.readthedocs.io/en/latest/c++-wrapping.html"
   ]
  },
  {
   "cell_type": "code",
   "execution_count": 49,
   "id": "29c039ee-b1b7-41d6-9a63-9d656d2728ea",
   "metadata": {},
   "outputs": [],
   "source": [
    "import numpy as np\n",
    "number=np.array(numbers,dtype=np.int32)\n",
    "number=np.array(numbers)\n",
    "\n"
   ]
  },
  {
   "cell_type": "code",
   "execution_count": 46,
   "id": "0deede10-ac43-4c7c-a858-583eb842bf5f",
   "metadata": {},
   "outputs": [
    {
     "data": {
      "text/plain": [
       "dtype('int64')"
      ]
     },
     "execution_count": 46,
     "metadata": {},
     "output_type": "execute_result"
    }
   ],
   "source": [
    "number.dtype"
   ]
  },
  {
   "cell_type": "code",
   "execution_count": 40,
   "id": "67f37fd6-fd1e-4381-8926-ca39e3c42851",
   "metadata": {},
   "outputs": [
    {
     "name": "stdout",
     "output_type": "stream",
     "text": [
      "13 µs ± 2.85 µs per loop (mean ± std. dev. of 7 runs, 100000 loops each)\n"
     ]
    }
   ],
   "source": [
    "%timeit number.sum()"
   ]
  },
  {
   "cell_type": "markdown",
   "id": "5921cb0b-b667-491e-9c0e-0e29aaec1d26",
   "metadata": {},
   "source": [
    "### Explain that the main reason that numpy is so much faster is because:\n",
    "1. data is typed\n",
    "2. sum function is defined in C/fortran somewhere\n",
    "3. numpy arrays are static size"
   ]
  },
  {
   "cell_type": "markdown",
   "id": "5e4c83d4-f5a2-4faf-983c-9496123d66e3",
   "metadata": {},
   "source": [
    "### which brings us to the biggest (in my opinion) design flaw in python\n",
    "\n",
    "# PYTHON IS DYNAMICALLY TYPED"
   ]
  },
  {
   "cell_type": "code",
   "execution_count": 41,
   "id": "3c6d2893-c1ba-452f-84cb-ad234a653187",
   "metadata": {},
   "outputs": [
    {
     "data": {
      "text/plain": [
       "int"
      ]
     },
     "execution_count": 41,
     "metadata": {},
     "output_type": "execute_result"
    }
   ],
   "source": [
    "x=3\n",
    "type(x)"
   ]
  },
  {
   "cell_type": "code",
   "execution_count": 44,
   "id": "7823009b-bb38-4f49-a25f-e800c1577c08",
   "metadata": {},
   "outputs": [
    {
     "name": "stdout",
     "output_type": "stream",
     "text": [
      "<class 'float'>\n",
      "7.0\n"
     ]
    }
   ],
   "source": [
    "y=4.0\n",
    "print(type(x+y))\n",
    "print(x+y)"
   ]
  },
  {
   "cell_type": "markdown",
   "id": "b55e3ba0-a34f-4733-80a0-cd38750c5563",
   "metadata": {},
   "source": [
    "# many of the most difficult problems you will face will be a result from you failing\n",
    "# to correctly cast/coerce typed data"
   ]
  },
  {
   "cell_type": "code",
   "execution_count": 65,
   "id": "24e2cbce-3715-4338-bf24-19b3398e385b",
   "metadata": {},
   "outputs": [
    {
     "name": "stdout",
     "output_type": "stream",
     "text": [
      "3.0\n",
      "2.999999999301508\n",
      "False\n",
      "True\n"
     ]
    }
   ],
   "source": [
    "#for example\n",
    "y=3\n",
    "x=np.float32(y-(y/2**32))\n",
    "print(x)\n",
    "z=np.float64(y-(y/2**32))\n",
    "print(z)\n",
    "print(z==x)\n",
    "print(np.float32(x)==np.float32(z))"
   ]
  },
  {
   "cell_type": "markdown",
   "id": "28ec8761-3d48-4771-a6dd-63e39d8d65ef",
   "metadata": {},
   "source": [
    "There are many functions to move between different data types, and they tend to work pretty well.\n",
    "Its just a good thing to keep in mind"
   ]
  },
  {
   "cell_type": "code",
   "execution_count": 66,
   "id": "948bf5d5-e688-483c-9158-d368ed9031af",
   "metadata": {},
   "outputs": [
    {
     "name": "stdout",
     "output_type": "stream",
     "text": [
      "x=3.0\n"
     ]
    }
   ],
   "source": [
    "print(\"x=\" + str(x))"
   ]
  },
  {
   "cell_type": "markdown",
   "id": "5245769d-ce1c-4878-a65e-9b76fb40aa57",
   "metadata": {},
   "source": [
    "### Recap:\n",
    "\n",
    "1. Computers do logic, which is close to but not identical to math.\n",
    "2. Compiled vs interpereted code, what are the costs and benifits of each.\n",
    "3. get used to thinking of data types\n",
    "\n",
    "Are there any questions from the book? \n",
    " "
   ]
  },
  {
   "cell_type": "code",
   "execution_count": null,
   "id": "f2576578-6c4a-43ee-98f5-ba0dc693510d",
   "metadata": {},
   "outputs": [],
   "source": []
  },
  {
   "cell_type": "code",
   "execution_count": null,
   "id": "b6cc1e17-29d0-414a-8db2-6bb7d5da35d8",
   "metadata": {},
   "outputs": [],
   "source": []
  },
  {
   "cell_type": "code",
   "execution_count": null,
   "id": "bee82eae-f4f2-4e4f-9a64-ecc8d31c991a",
   "metadata": {},
   "outputs": [],
   "source": []
  },
  {
   "cell_type": "code",
   "execution_count": null,
   "id": "043c2767-b076-4cc3-ab0c-edf6e3d0b5a8",
   "metadata": {},
   "outputs": [],
   "source": []
  },
  {
   "cell_type": "code",
   "execution_count": null,
   "id": "5c054676-f9f1-4c13-8922-7604d1ae9c92",
   "metadata": {},
   "outputs": [],
   "source": []
  }
 ],
 "metadata": {
  "kernelspec": {
   "display_name": "Python 3",
   "language": "python",
   "name": "python3"
  },
  "language_info": {
   "codemirror_mode": {
    "name": "ipython",
    "version": 3
   },
   "file_extension": ".py",
   "mimetype": "text/x-python",
   "name": "python",
   "nbconvert_exporter": "python",
   "pygments_lexer": "ipython3",
   "version": "3.8.8"
  }
 },
 "nbformat": 4,
 "nbformat_minor": 5
}
