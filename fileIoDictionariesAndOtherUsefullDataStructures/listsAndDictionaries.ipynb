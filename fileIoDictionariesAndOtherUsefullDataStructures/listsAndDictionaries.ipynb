{
 "cells": [
  {
   "cell_type": "code",
   "execution_count": null,
   "id": "e2fcb65c-e656-4f60-8ccd-241b2f0cd1f3",
   "metadata": {},
   "outputs": [],
   "source": [
    "# Lists,tuples and dictionaries are the two most important data strucutres availible in python"
   ]
  },
  {
   "cell_type": "code",
   "execution_count": null,
   "id": "265565d4-9945-4b18-892d-8d46fa953267",
   "metadata": {},
   "outputs": [],
   "source": [
    "# a tupple is a static object which can hold data of variable type"
   ]
  },
  {
   "cell_type": "code",
   "execution_count": 15,
   "id": "49ede62c-5414-4134-bc1a-550bc2e84335",
   "metadata": {},
   "outputs": [],
   "source": [
    "aTuple=(1,2,3,4,5,'a')"
   ]
  },
  {
   "cell_type": "code",
   "execution_count": 19,
   "id": "6e40f844-5ace-49a3-81f5-a6f12aa724b0",
   "metadata": {},
   "outputs": [
    {
     "data": {
      "text/plain": [
       "5"
      ]
     },
     "execution_count": 19,
     "metadata": {},
     "output_type": "execute_result"
    }
   ],
   "source": [
    "aTuple[-2]"
   ]
  },
  {
   "cell_type": "code",
   "execution_count": 20,
   "id": "201ed205-add8-4cb3-baf3-c64411389093",
   "metadata": {},
   "outputs": [
    {
     "ename": "TypeError",
     "evalue": "'tuple' object does not support item assignment",
     "output_type": "error",
     "traceback": [
      "\u001b[0;31m---------------------------------------------------------------------------\u001b[0m",
      "\u001b[0;31mTypeError\u001b[0m                                 Traceback (most recent call last)",
      "\u001b[0;32m/var/folders/4t/5blmb9516m5cnkf99498dxch0000gq/T/ipykernel_10365/2864832268.py\u001b[0m in \u001b[0;36m<module>\u001b[0;34m\u001b[0m\n\u001b[0;32m----> 1\u001b[0;31m \u001b[0maTuple\u001b[0m\u001b[0;34m[\u001b[0m\u001b[0;36m0\u001b[0m\u001b[0;34m]\u001b[0m\u001b[0;34m=\u001b[0m\u001b[0;36m3\u001b[0m\u001b[0;34m\u001b[0m\u001b[0;34m\u001b[0m\u001b[0m\n\u001b[0m",
      "\u001b[0;31mTypeError\u001b[0m: 'tuple' object does not support item assignment"
     ]
    }
   ],
   "source": [
    "aTuple[0]=3"
   ]
  },
  {
   "cell_type": "code",
   "execution_count": 2,
   "id": "b9bac086-3d47-4142-9457-deb8edc399d7",
   "metadata": {},
   "outputs": [],
   "source": [
    "# A list is a dynamic object which can hold data of variable size and type. \n"
   ]
  },
  {
   "cell_type": "code",
   "execution_count": 21,
   "id": "c25fa545-c11d-4ae8-8c71-06b65a61efa5",
   "metadata": {},
   "outputs": [],
   "source": [
    "#https://docs.python.org/3/tutorial/datastructures.html\n",
    "\n",
    "aList=[1,2,3,4,5,'a']"
   ]
  },
  {
   "cell_type": "code",
   "execution_count": 23,
   "id": "fb5cebbe-db15-4745-b560-0a3b82898e43",
   "metadata": {},
   "outputs": [],
   "source": [
    "aList[0]=3"
   ]
  },
  {
   "cell_type": "code",
   "execution_count": 34,
   "id": "2ae9f9da-603c-4dd4-be07-c5c1e826ab8f",
   "metadata": {},
   "outputs": [],
   "source": [
    "aList=[]"
   ]
  },
  {
   "cell_type": "code",
   "execution_count": 35,
   "id": "7d897e1b-f4c8-4544-abfb-00e0d6898f71",
   "metadata": {},
   "outputs": [],
   "source": [
    "for a in range(1000):\n",
    "    aList.append(a)"
   ]
  },
  {
   "cell_type": "code",
   "execution_count": 37,
   "id": "c545f8b3-bc60-4cc1-8a21-62a131afcec2",
   "metadata": {},
   "outputs": [],
   "source": [
    "# generator\n",
    "\n",
    "a=list(range(1000))\n"
   ]
  },
  {
   "cell_type": "code",
   "execution_count": 43,
   "id": "2478d4ba-8e45-4f5e-bec5-07879de17aa7",
   "metadata": {},
   "outputs": [
    {
     "data": {
      "text/plain": [
       "4"
      ]
     },
     "execution_count": 43,
     "metadata": {},
     "output_type": "execute_result"
    }
   ],
   "source": [
    "a[4]"
   ]
  },
  {
   "cell_type": "code",
   "execution_count": 8,
   "id": "6473d3b2-4ece-4289-8e68-ce1b5511d3d5",
   "metadata": {},
   "outputs": [],
   "source": [
    "# ''.join(aList)"
   ]
  },
  {
   "cell_type": "code",
   "execution_count": 44,
   "id": "0cb9a9a4-deda-4bee-83dd-123e69e1a40d",
   "metadata": {},
   "outputs": [],
   "source": [
    "# a dictionary or hash table\n",
    "\n",
    "dictionary={\"a\":\"a\",\"one\":1,\"two\":2}"
   ]
  },
  {
   "cell_type": "code",
   "execution_count": 46,
   "id": "43e78168-7562-42da-bbb5-1c0193666291",
   "metadata": {},
   "outputs": [
    {
     "data": {
      "text/plain": [
       "1"
      ]
     },
     "execution_count": 46,
     "metadata": {},
     "output_type": "execute_result"
    }
   ],
   "source": [
    "dictionary[\"one\"]"
   ]
  },
  {
   "cell_type": "code",
   "execution_count": 47,
   "id": "1dd216cd-23d7-4e56-be53-322f2dd8948c",
   "metadata": {},
   "outputs": [
    {
     "data": {
      "text/plain": [
       "2"
      ]
     },
     "execution_count": 47,
     "metadata": {},
     "output_type": "execute_result"
    }
   ],
   "source": [
    "dictionary[\"two\"]"
   ]
  },
  {
   "cell_type": "code",
   "execution_count": 48,
   "id": "d2fbc50c-48d0-4b40-9db5-4228019b0770",
   "metadata": {},
   "outputs": [],
   "source": [
    "dictionary[\"test\"]=62"
   ]
  },
  {
   "cell_type": "code",
   "execution_count": 49,
   "id": "6cd4ef43-e5b7-4262-a07e-c13a671f93e6",
   "metadata": {},
   "outputs": [
    {
     "data": {
      "text/plain": [
       "{'a': 'a', 'one': 1, 'two': 2, 'test': 62}"
      ]
     },
     "execution_count": 49,
     "metadata": {},
     "output_type": "execute_result"
    }
   ],
   "source": [
    "dictionary"
   ]
  },
  {
   "cell_type": "code",
   "execution_count": 51,
   "id": "5f8f7b84-0eb4-47ca-b24f-4b505231e0ab",
   "metadata": {},
   "outputs": [],
   "source": [
    "dictionary[\"stations\"]=[1,2,3,4,5]"
   ]
  },
  {
   "cell_type": "code",
   "execution_count": 52,
   "id": "641aa06b-ca09-4070-b452-233bfe99cb44",
   "metadata": {},
   "outputs": [
    {
     "data": {
      "text/plain": [
       "[1, 2, 3, 4, 5]"
      ]
     },
     "execution_count": 52,
     "metadata": {},
     "output_type": "execute_result"
    }
   ],
   "source": [
    "dictionary[\"stations\"]"
   ]
  },
  {
   "cell_type": "code",
   "execution_count": 53,
   "id": "4daa1c2a-433a-411d-9cad-c9be6b87561a",
   "metadata": {},
   "outputs": [
    {
     "name": "stdout",
     "output_type": "stream",
     "text": [
      "1\n",
      "2\n",
      "3\n",
      "4\n",
      "5\n"
     ]
    }
   ],
   "source": [
    "for station in dictionary[\"stations\"]:\n",
    "    print(station)"
   ]
  },
  {
   "cell_type": "code",
   "execution_count": 54,
   "id": "7e927cd8-af2b-4f70-9238-b5c8ec420774",
   "metadata": {},
   "outputs": [],
   "source": [
    "dictionary[\"days\"] = {\"mon\":1,\"tue\":2}"
   ]
  },
  {
   "cell_type": "code",
   "execution_count": 55,
   "id": "5012fe2b-3b20-4644-ac28-a49041b6c6b3",
   "metadata": {},
   "outputs": [
    {
     "data": {
      "text/plain": [
       "1"
      ]
     },
     "execution_count": 55,
     "metadata": {},
     "output_type": "execute_result"
    }
   ],
   "source": [
    "dictionary[\"days\"][\"mon\"]"
   ]
  },
  {
   "cell_type": "code",
   "execution_count": 56,
   "id": "d0b01ea6-6d81-4891-88d9-ceec60617ef5",
   "metadata": {},
   "outputs": [
    {
     "data": {
      "text/plain": [
       "{'a': 'a',\n",
       " 'one': 1,\n",
       " 'two': 2,\n",
       " 'test': 62,\n",
       " 'stations': [1, 2, 3, 4, 5],\n",
       " 'days': {'mon': 1, 'tue': 2}}"
      ]
     },
     "execution_count": 56,
     "metadata": {},
     "output_type": "execute_result"
    }
   ],
   "source": [
    "dictionary"
   ]
  },
  {
   "cell_type": "code",
   "execution_count": 57,
   "id": "671e4067-c713-4653-b720-06168fcd91eb",
   "metadata": {},
   "outputs": [
    {
     "data": {
      "text/plain": [
       "dict_keys(['a', 'one', 'two', 'test', 'stations', 'days'])"
      ]
     },
     "execution_count": 57,
     "metadata": {},
     "output_type": "execute_result"
    }
   ],
   "source": [
    "dictionary.keys()"
   ]
  },
  {
   "cell_type": "code",
   "execution_count": 58,
   "id": "e4595fb6-b74e-4ad0-a032-50abb14026ab",
   "metadata": {},
   "outputs": [
    {
     "data": {
      "text/plain": [
       "dict_keys(['mon', 'tue'])"
      ]
     },
     "execution_count": 58,
     "metadata": {},
     "output_type": "execute_result"
    }
   ],
   "source": [
    "dictionary['days'].keys()"
   ]
  },
  {
   "cell_type": "code",
   "execution_count": 62,
   "id": "80c6bea7-bd5a-4ff8-bf4d-27ae2b59292e",
   "metadata": {},
   "outputs": [],
   "source": [
    "import json\n",
    "Fname = \"rFile.ini\"\n",
    "\n",
    "def loadPF(Fname):\n",
    "    pfContents = [] #a list\n",
    "    with open(Fname,'r') as fileObject:\n",
    "        #this is called a list comphrension\n",
    "        pfContents = [line.strip() for line in fileObject if(\"#\" not in line.strip())]\n",
    "    #attempt to jsonify\n",
    "    #r is to indicate that this is a raw string (i.e ignore \\ escape charecter\n",
    "    pfContents = json.loads(r''.join(pfContents))\n",
    "    return pfContents\n",
    "\n",
    "def loadPFLongForm(Fname):\n",
    "    pfContents = [] # a list\n",
    "    fileObject = open(Fname,'r')\n",
    "    for line in fileObject:\n",
    "        if(\"#\" not in line.strip()):\n",
    "            pfContents.append(line.strip())\n",
    "    #attempt to jsonify\n",
    "    #r is to indicate that this is a raw string (i.e ignore \\ escape charecter\n",
    "    pfContents = json.loads(r''.join(pfContents))\n",
    "    #close the file\n",
    "    fileObject.close()\n",
    "    return pfContents\n",
    "\n",
    "\n",
    "loadJson=loadPF(\"rFile.ini\")"
   ]
  },
  {
   "cell_type": "code",
   "execution_count": 68,
   "id": "6938a1d3-d639-4f25-b1ec-03c190199459",
   "metadata": {},
   "outputs": [],
   "source": [
    "stuff={\n",
    "    \"azimuth\":123,\n",
    "    \"lat\":123.0,\n",
    "    \"long\":0.0,\n",
    "\n",
    "}"
   ]
  },
  {
   "cell_type": "code",
   "execution_count": 69,
   "id": "aaeb48e9-ab83-47db-8273-a3eefa6dc17c",
   "metadata": {},
   "outputs": [
    {
     "data": {
      "text/plain": [
       "{'azimuth': 123, 'lat': 123.0, 'long': 0.0}"
      ]
     },
     "execution_count": 69,
     "metadata": {},
     "output_type": "execute_result"
    }
   ],
   "source": [
    "stuff"
   ]
  },
  {
   "cell_type": "code",
   "execution_count": 70,
   "id": "189de02c-ed77-469d-979e-7529d95828b9",
   "metadata": {},
   "outputs": [
    {
     "data": {
      "text/plain": [
       "'{\"azimuth\": 123, \"lat\": 123.0, \"long\": 0.0}'"
      ]
     },
     "execution_count": 70,
     "metadata": {},
     "output_type": "execute_result"
    }
   ],
   "source": [
    "json.dumps(stuff)"
   ]
  },
  {
   "cell_type": "code",
   "execution_count": null,
   "id": "095c75cb-2166-471e-a274-556c26dafa0b",
   "metadata": {},
   "outputs": [],
   "source": []
  }
 ],
 "metadata": {
  "kernelspec": {
   "display_name": "Python 3 (ipykernel)",
   "language": "python",
   "name": "python3"
  },
  "language_info": {
   "codemirror_mode": {
    "name": "ipython",
    "version": 3
   },
   "file_extension": ".py",
   "mimetype": "text/x-python",
   "name": "python",
   "nbconvert_exporter": "python",
   "pygments_lexer": "ipython3",
   "version": "3.9.7"
  }
 },
 "nbformat": 4,
 "nbformat_minor": 5
}
