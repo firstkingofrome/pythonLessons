{
 "cells": [
  {
   "cell_type": "markdown",
   "id": "cabe9714-5731-42a5-a8d1-268448799628",
   "metadata": {},
   "source": [
    "Objectives:\n",
    "\n",
    "1. Show how you can simply import some of this stuff from a .py file\n",
    "2. Explain enviroment variables are used to map this library locations\n",
    "3. Explain how tools like anaconda do many things, one of which is to manage enviroment variables explore the local enviroment /Users/eckert/anaconda3/envs\n"
   ]
  },
  {
   "cell_type": "code",
   "execution_count": 1,
   "id": "cdc5ddae-96ff-4bd1-a510-a0d12cb66480",
   "metadata": {},
   "outputs": [],
   "source": [
    "import parameterFile as paramFile #name space\n",
    "import numpy as np\n"
   ]
  },
  {
   "cell_type": "code",
   "execution_count": 3,
   "id": "9267f7e6-015b-43f7-8b35-36a5df1064b8",
   "metadata": {},
   "outputs": [
    {
     "name": "stdout",
     "output_type": "stream",
     "text": [
      "/Users/eckert/anaconda3/lib/python3.8/site-packages/numpy/__init__.py\n"
     ]
    }
   ],
   "source": [
    "print(np.__file__)"
   ]
  },
  {
   "cell_type": "code",
   "execution_count": 8,
   "id": "492d9a82-4084-4d05-b970-e441177005dc",
   "metadata": {},
   "outputs": [
    {
     "name": "stdout",
     "output_type": "stream",
     "text": [
      "/Users/eckert/anaconda3/lib/python3.8/site-packages/numpy/__init__.py\n"
     ]
    }
   ],
   "source": [
    "print(np.__file__)"
   ]
  },
  {
   "cell_type": "code",
   "execution_count": 9,
   "id": "cb5b6805-33ea-43f5-ae15-6cb0d332d2e7",
   "metadata": {},
   "outputs": [],
   "source": [
    "parameterFile=\"rFile.ini\""
   ]
  },
  {
   "cell_type": "code",
   "execution_count": 10,
   "id": "f6f6dd76-3c80-4b09-b5ea-98fc758fb96d",
   "metadata": {},
   "outputs": [],
   "source": [
    "#load parameter file using a function in \n",
    "pf=paramFile.loadPF(parameterFile)"
   ]
  },
  {
   "cell_type": "code",
   "execution_count": 11,
   "id": "bcccc9a2-9123-4994-b06e-534e62b87829",
   "metadata": {},
   "outputs": [
    {
     "data": {
      "text/plain": [
       "{'BLOCK_CONTROL': {'HEADER': {'PROJECTION_STRING': '+proj=utm +zone=36 +datum=WGS84 +units=m +no_defs',\n",
       "   'AZIMUTH': 0,\n",
       "   'ATTENUATION': 1,\n",
       "   'LAT0': 37.0691028659,\n",
       "   'LON0': -116.125672929,\n",
       "   'maxDepthBelowSeaLvl': 4000,\n",
       "   'draftMode': 1},\n",
       "  'TOPO': {'HHb': 35,\n",
       "   'HVb': 100,\n",
       "   'Z0': 0,\n",
       "   'NCb': 1,\n",
       "   'Ni': 250,\n",
       "   'Nj': 250,\n",
       "   'Nk': 1,\n",
       "   'INTERPOLATION': 'nearest',\n",
       "   'BLOCK_NUMBER': 0},\n",
       "  'ALLUVIUM': {'HHb': 35,\n",
       "   'HVb': 10,\n",
       "   'Z0': -2000,\n",
       "   'NCb': 5,\n",
       "   'Ni': 250,\n",
       "   'Nj': 250,\n",
       "   'Nk': 400,\n",
       "   'INTERPOLATION': 'nearest',\n",
       "   'BLOCK_NUMBER': 1},\n",
       "  'GRANITE': {'HHb': 180,\n",
       "   'HVb': 10,\n",
       "   'Z0': 2000,\n",
       "   'NCb': 5,\n",
       "   'Ni': 50,\n",
       "   'Nj': 50,\n",
       "   'Nk': 200,\n",
       "   'INTERPOLATION': 'nearest',\n",
       "   'BLOCK_NUMBER': 2}},\n",
       " 'GEOL_CONTROL': {'2': {'NAME': 'Aluvium',\n",
       "   'VP': 1600,\n",
       "   'VS': 2000,\n",
       "   'P': 1.95,\n",
       "   'QP': 60,\n",
       "   'QS': 30},\n",
       "  '3': {'NAME': 'UWT',\n",
       "   'VP': 2000,\n",
       "   'VS': 1160,\n",
       "   'P': 2.06,\n",
       "   'QP': 200,\n",
       "   'QS': 100},\n",
       "  '4': {'NAME': 'VNT',\n",
       "   'VP': 1900,\n",
       "   'VS': 1100,\n",
       "   'P': 2.04,\n",
       "   'QP': 200,\n",
       "   'QS': 100},\n",
       "  '5': {'NAME': 'LWT',\n",
       "   'VP': 2700,\n",
       "   'VS': 1570,\n",
       "   'P': 2.23,\n",
       "   'QP': 540,\n",
       "   'QS': 270},\n",
       "  '6': {'NAME': 'ZNT',\n",
       "   'VP': 2400,\n",
       "   'VS': 1400,\n",
       "   'P': 2.17,\n",
       "   'QP': 480,\n",
       "   'QS': 240},\n",
       "  '7': {'NAME': 'PZ', 'VP': 4800, 'VS': 2750, 'P': 2.57, 'QP': 550, 'QS': 275},\n",
       "  '8': {'NAME': 'MZ',\n",
       "   'VP': 5200,\n",
       "   'VS': 3020,\n",
       "   'P': 2.67,\n",
       "   'QP': 600,\n",
       "   'QS': 300}}}"
      ]
     },
     "execution_count": 11,
     "metadata": {},
     "output_type": "execute_result"
    }
   ],
   "source": [
    "pf"
   ]
  },
  {
   "cell_type": "code",
   "execution_count": null,
   "id": "d4679bed-2bbf-438e-978d-53268a53e6a7",
   "metadata": {},
   "outputs": [],
   "source": []
  }
 ],
 "metadata": {
  "kernelspec": {
   "display_name": "Python 3",
   "language": "python",
   "name": "python3"
  },
  "language_info": {
   "codemirror_mode": {
    "name": "ipython",
    "version": 3
   },
   "file_extension": ".py",
   "mimetype": "text/x-python",
   "name": "python",
   "nbconvert_exporter": "python",
   "pygments_lexer": "ipython3",
   "version": "3.8.8"
  }
 },
 "nbformat": 4,
 "nbformat_minor": 5
}
