{
 "cells": [
  {
   "cell_type": "markdown",
   "id": "1ec13ddf-3187-4ffa-8a14-23d6d75e7cef",
   "metadata": {},
   "source": [
    "\n",
    "week two review questions: static vs non static data, exceptions, name space, functions,  basic library design\n",
    "\n",
    "\n"
   ]
  },
  {
   "cell_type": "markdown",
   "id": "3ff11203-7c7b-4459-b9ea-a2ab2160fa1a",
   "metadata": {},
   "source": [
    "1. What will the following code cells output?"
   ]
  },
  {
   "cell_type": "code",
   "execution_count": 17,
   "id": "2d17d207-4e02-4e61-a0ac-2c2e49f7c061",
   "metadata": {},
   "outputs": [],
   "source": [
    "import numpy as np"
   ]
  },
  {
   "cell_type": "code",
   "execution_count": 18,
   "id": "5410edba-c168-485c-9488-7bb66da884d8",
   "metadata": {},
   "outputs": [],
   "source": [
    "def xSquare(number):\n",
    "    return number**2"
   ]
  },
  {
   "cell_type": "code",
   "execution_count": 19,
   "id": "3e62c5d5-ef21-4d1b-bb93-a014cea9fb5d",
   "metadata": {},
   "outputs": [
    {
     "data": {
      "text/plain": [
       "9.0"
      ]
     },
     "execution_count": 19,
     "metadata": {},
     "output_type": "execute_result"
    }
   ],
   "source": [
    "xSquare(3.0)"
   ]
  },
  {
   "cell_type": "code",
   "execution_count": 20,
   "id": "43549eae-55ca-4805-b563-51f90c5635ee",
   "metadata": {},
   "outputs": [
    {
     "ename": "NameError",
     "evalue": "name 'number' is not defined",
     "output_type": "error",
     "traceback": [
      "\u001b[0;31m---------------------------------------------------------------------------\u001b[0m",
      "\u001b[0;31mNameError\u001b[0m                                 Traceback (most recent call last)",
      "\u001b[0;32m<ipython-input-20-03090db32dff>\u001b[0m in \u001b[0;36m<module>\u001b[0;34m\u001b[0m\n\u001b[0;32m----> 1\u001b[0;31m \u001b[0mprint\u001b[0m\u001b[0;34m(\u001b[0m\u001b[0mnumber\u001b[0m\u001b[0;34m)\u001b[0m\u001b[0;34m\u001b[0m\u001b[0;34m\u001b[0m\u001b[0m\n\u001b[0m",
      "\u001b[0;31mNameError\u001b[0m: name 'number' is not defined"
     ]
    }
   ],
   "source": [
    "print(number)"
   ]
  },
  {
   "cell_type": "code",
   "execution_count": 21,
   "id": "0c04a0f8-a4d5-49ef-ac74-36e108425f0b",
   "metadata": {},
   "outputs": [],
   "source": [
    "x=[1,2,3,4,5]"
   ]
  },
  {
   "cell_type": "code",
   "execution_count": 22,
   "id": "21b3b97d-7cd7-4cb3-abb7-ac793698dedd",
   "metadata": {},
   "outputs": [],
   "source": [
    "y=x"
   ]
  },
  {
   "cell_type": "code",
   "execution_count": 23,
   "id": "26dd7327-2bb4-4caf-b1eb-db7240233ad3",
   "metadata": {},
   "outputs": [
    {
     "data": {
      "text/plain": [
       "-6"
      ]
     },
     "execution_count": 23,
     "metadata": {},
     "output_type": "execute_result"
    }
   ],
   "source": [
    "x[0]=-6\n",
    "y[0]"
   ]
  },
  {
   "cell_type": "code",
   "execution_count": 24,
   "id": "43d8adf2-8dd1-4823-b264-1b7c99d1f1a2",
   "metadata": {},
   "outputs": [],
   "source": [
    "z=np.array(y,dtype=np.int32)"
   ]
  },
  {
   "cell_type": "code",
   "execution_count": 25,
   "id": "7de68198-b293-46b6-a303-64bd7a76e90c",
   "metadata": {},
   "outputs": [
    {
     "name": "stdout",
     "output_type": "stream",
     "text": [
      "number is a local variable and cannot be displayed\n"
     ]
    }
   ],
   "source": [
    "try:\n",
    "    print(number)\n",
    "except NameError:\n",
    "    print(\"number is a local variable and cannot be displayed\")"
   ]
  },
  {
   "cell_type": "markdown",
   "id": "3d01f5e6-eaf2-4065-8ce6-8da78b1532d0",
   "metadata": {},
   "source": [
    "We will work through this together"
   ]
  },
  {
   "cell_type": "code",
   "execution_count": 26,
   "id": "4ca31c95-7f47-443e-9c6c-8af46736b6f4",
   "metadata": {},
   "outputs": [],
   "source": [
    "\"\"\"\n",
    "saves n random numbers to a text file\n",
    "nNumbers:int:Number of randome numbers to save to text file\n",
    "\n",
    "returns: none\n",
    "\"\"\"\n",
    "\n",
    "def saveRandNumbersToTextFile(fname=\"output.txt\",nNumbers=10):\n",
    "    numbers = np.random.rand(shape=nNumbers)\n",
    "    saveListToTextFile(fname,numbers)\n",
    "\n",
    "\"\"\"\n",
    "saves the specifed array to a text file\n",
    "numbers:array of random numbers\n",
    "fname:file name to save\n",
    "returns: none\n",
    "\"\"\"\n",
    "\n",
    "def saveListToTextFile(numbers,fname=\"test.txt\"):\n",
    "    fhandle = open(fname, \"w\")\n",
    "    \n",
    "    return\n",
    "    \n",
    "    \n"
   ]
  },
  {
   "cell_type": "code",
   "execution_count": null,
   "id": "c5dca0a8-8e00-455c-bcc0-629c7baab562",
   "metadata": {},
   "outputs": [],
   "source": []
  }
 ],
 "metadata": {
  "kernelspec": {
   "display_name": "Python 3",
   "language": "python",
   "name": "python3"
  },
  "language_info": {
   "codemirror_mode": {
    "name": "ipython",
    "version": 3
   },
   "file_extension": ".py",
   "mimetype": "text/x-python",
   "name": "python",
   "nbconvert_exporter": "python",
   "pygments_lexer": "ipython3",
   "version": "3.8.8"
  }
 },
 "nbformat": 4,
 "nbformat_minor": 5
}
