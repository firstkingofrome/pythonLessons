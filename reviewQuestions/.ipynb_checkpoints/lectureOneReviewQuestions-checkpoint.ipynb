{
 "cells": [
  {
   "cell_type": "markdown",
   "id": "661dd3c0-6661-4237-8e63-b307a2fea49d",
   "metadata": {},
   "source": [
    "\n",
    "Lecture one review questions: Tupples, lists, dictionaries, static vs non static data, \n",
    "interpreted vs compiled languages, binary opperators, binary arithmatic \n",
    "\n"
   ]
  },
  {
   "cell_type": "markdown",
   "id": "04d829fd-0f8b-4386-b275-bf94859bad68",
   "metadata": {},
   "source": [
    "1. What are the main differences between compiled and interpolated computer programing languages ?\n",
    "\n",
    "<br/>\n",
    "<br/>\n",
    "<br/>\n",
    "<br/>\n",
    "<br/>\n",
    "<br/>\n"
   ]
  },
  {
   "cell_type": "markdown",
   "id": "cb9dce07-8c17-4691-bc5f-41ed228e2e43",
   "metadata": {},
   "source": [
    "2. Why are functions like np.sum typically faster than implementing an equivelent function in \"pure\" python?\n",
    "<br/>\n",
    "<br/>\n",
    "<br/>"
   ]
  },
  {
   "cell_type": "markdown",
   "id": "5429008d-a264-432f-a008-e41643a0677c",
   "metadata": {},
   "source": [
    "3. What is the opperator called in the expression 8 & 3?\n",
    "<br/>\n",
    "<br/>\n",
    "<br/>"
   ]
  },
  {
   "cell_type": "markdown",
   "id": "44926737-48d6-4fa1-9876-91a4ffcab8c2",
   "metadata": {},
   "source": [
    "4. Write $8_{10}$ and $3_{10}$ in binary:\n",
    "<br/>\n",
    "<br/>\n"
   ]
  },
  {
   "cell_type": "markdown",
   "id": "4cfdff87-e4e5-4edf-9398-c0affaca2bca",
   "metadata": {},
   "source": [
    "5. What is $8_{10}$ & $3_{10}$,please try and do with a pen and paper before using python"
   ]
  },
  {
   "cell_type": "markdown",
   "id": "5a72e621-3a4d-42f5-9426-70e348872c93",
   "metadata": {},
   "source": [
    "6. What is the opperator called in the expression 8 | 3?\n",
    "<br/>\n",
    "<br/>\n",
    "<br/>"
   ]
  },
  {
   "cell_type": "markdown",
   "id": "4993759f-e201-42dd-86cc-1eddda87c5a7",
   "metadata": {},
   "source": [
    "7. What is 8 | 3 = ?\n",
    "<br/>\n",
    "<br/>\n",
    "<br/>"
   ]
  },
  {
   "cell_type": "markdown",
   "id": "1afe5bb4-3fb9-4983-96ce-9eb2ea306aa8",
   "metadata": {},
   "source": [
    "8. Try and guess the output from the following expression before evaluating it:"
   ]
  },
  {
   "cell_type": "code",
   "execution_count": 4,
   "id": "dc05032c-bea4-41cc-9916-7892e5c49d78",
   "metadata": {},
   "outputs": [
    {
     "name": "stdout",
     "output_type": "stream",
     "text": [
      "20\n"
     ]
    }
   ],
   "source": [
    "test=(1,2,3,4,5)\n",
    "print(test[-1]*test[-2])"
   ]
  },
  {
   "cell_type": "code",
   "execution_count": 5,
   "id": "74d9a65d-6bde-4438-b1e7-1e480bcb2d47",
   "metadata": {},
   "outputs": [
    {
     "name": "stdout",
     "output_type": "stream",
     "text": [
      "False\n"
     ]
    }
   ],
   "source": [
    "print(test[4]>test[-1])"
   ]
  },
  {
   "cell_type": "code",
   "execution_count": 6,
   "id": "b44a3b95-8e93-4860-ba41-7e6cc62f2b4e",
   "metadata": {},
   "outputs": [
    {
     "name": "stdout",
     "output_type": "stream",
     "text": [
      "True\n"
     ]
    }
   ],
   "source": [
    "print(test[4]>=test[-1])"
   ]
  },
  {
   "cell_type": "code",
   "execution_count": 10,
   "id": "b3b512a0-cbf1-4955-8705-9edf8ab6cbb2",
   "metadata": {},
   "outputs": [
    {
     "name": "stdout",
     "output_type": "stream",
     "text": [
      "True\n"
     ]
    }
   ],
   "source": [
    "print(test[4]>=test[-1] and test[-1]==test[4] )"
   ]
  },
  {
   "cell_type": "markdown",
   "id": "7d269e95-5ee8-48b2-a883-b31ac8937f03",
   "metadata": {},
   "source": [
    "9. What is the difference between | and or? & and and?"
   ]
  },
  {
   "cell_type": "markdown",
   "id": "986013a8-1da5-4fec-a9b2-7cc389700eb3",
   "metadata": {},
   "source": [
    "10. What is the difference between == and = (if you are unsure try making a small program)?\n",
    "<br/>\n",
    "x=5\n",
    "<br/>\n",
    "x==5"
   ]
  },
  {
   "cell_type": "markdown",
   "id": "eb0dd92c-f08e-4306-a96b-7b59c4e8a718",
   "metadata": {},
   "source": [
    "11. Try and guess the outputs from the following expressions before evaluating them:"
   ]
  },
  {
   "cell_type": "code",
   "execution_count": 12,
   "id": "b0e69a53-a63d-471e-ac63-fe05960d30a0",
   "metadata": {},
   "outputs": [
    {
     "name": "stdout",
     "output_type": "stream",
     "text": [
      "[0, 1, 2, 3, 4, 5, 6, 7, 8, 9]\n"
     ]
    }
   ],
   "source": [
    "x=[]\n",
    "for i in range(10):\n",
    "    x.append(i)\n",
    "print(x)"
   ]
  },
  {
   "cell_type": "code",
   "execution_count": 13,
   "id": "833b9de0-b966-4d73-9f4d-ffabe73cd8c0",
   "metadata": {},
   "outputs": [
    {
     "data": {
      "text/plain": [
       "10"
      ]
     },
     "execution_count": 13,
     "metadata": {},
     "output_type": "execute_result"
    }
   ],
   "source": [
    "len(x)"
   ]
  },
  {
   "cell_type": "code",
   "execution_count": 15,
   "id": "e94911ef-74a8-4445-b4b7-d2b3c4caae2b",
   "metadata": {},
   "outputs": [],
   "source": [
    "y=list(range(10))"
   ]
  },
  {
   "cell_type": "code",
   "execution_count": null,
   "id": "97712649-4d82-472e-81ad-17eb2b3aa74a",
   "metadata": {},
   "outputs": [],
   "source": [
    "x==y"
   ]
  },
  {
   "cell_type": "markdown",
   "id": "b14b248e-2799-4873-895e-064ea1abc288",
   "metadata": {},
   "source": [
    "11. Are the following lists equivelent? Explain breifly:  "
   ]
  },
  {
   "cell_type": "code",
   "execution_count": 35,
   "id": "d7a1ee89-1133-4b5f-b40f-5d5a53d5175c",
   "metadata": {},
   "outputs": [
    {
     "data": {
      "text/plain": [
       "False"
      ]
     },
     "execution_count": 35,
     "metadata": {},
     "output_type": "execute_result"
    }
   ],
   "source": [
    "x=[1,2,3,4]\n",
    "y=[4,3,2,1]\n",
    "x==y"
   ]
  },
  {
   "cell_type": "markdown",
   "id": "3d31ea97-8a42-4929-a7ec-be4fe70c2ab4",
   "metadata": {},
   "source": [
    "12. What is the differene between the following two expressions?"
   ]
  },
  {
   "cell_type": "code",
   "execution_count": 22,
   "id": "d38574bb-0841-4577-9b8a-2879a301befc",
   "metadata": {},
   "outputs": [
    {
     "name": "stdout",
     "output_type": "stream",
     "text": [
      "Luis\n",
      "Cece\n",
      "Eric\n"
     ]
    }
   ],
   "source": [
    "studentNames=[\"Luis\",\"Cece\",\"Eric\"]\n",
    "for name in studentNames:\n",
    "    print(name)"
   ]
  },
  {
   "cell_type": "code",
   "execution_count": 23,
   "id": "75412d98-11fd-4881-a594-d54bb451b655",
   "metadata": {},
   "outputs": [
    {
     "name": "stdout",
     "output_type": "stream",
     "text": [
      "0\n",
      "1\n",
      "2\n"
     ]
    }
   ],
   "source": [
    "studentNames=[\"Luis\",\"Cece\",\"Eric\"]\n",
    "for name in range(len(studentNames)):\n",
    "    print(name)"
   ]
  },
  {
   "cell_type": "markdown",
   "id": "5d9e54fa-1915-4803-8752-e5ad2905cc7c",
   "metadata": {},
   "source": [
    "13. The following function converts two lists to a dictionary. Try and understand what it is doing:\n",
    "\n",
    "If you get confuesd try modifying the for loop by adding print statements so you can understand what is hapening every step"
   ]
  },
  {
   "cell_type": "code",
   "execution_count": 27,
   "id": "87469efb-6098-471c-941f-a85d9f77fabb",
   "metadata": {},
   "outputs": [],
   "source": [
    "studentNames=[\"Luis\",\"Cece\",\"Eric\"]\n",
    "studentAges=[24,25,27]\n",
    "students = {}\n",
    "for name in range(len(studentNames)):\n",
    "    students[studentNames[name]]=studentAges[name]"
   ]
  },
  {
   "cell_type": "code",
   "execution_count": 28,
   "id": "1a8dc1bf-cd6b-4759-bbfb-8399d19596c4",
   "metadata": {},
   "outputs": [
    {
     "data": {
      "text/plain": [
       "dict_keys(['Luis', 'Cece', 'Eric'])"
      ]
     },
     "execution_count": 28,
     "metadata": {},
     "output_type": "execute_result"
    }
   ],
   "source": [
    "students.keys()"
   ]
  },
  {
   "cell_type": "code",
   "execution_count": 31,
   "id": "5d90783e-d5ea-4f4c-af39-1c23d6cb71d5",
   "metadata": {},
   "outputs": [
    {
     "name": "stdout",
     "output_type": "stream",
     "text": [
      "Luis is 24 years old\n",
      "Cece is 25 years old\n",
      "Eric is 27 years old\n"
     ]
    }
   ],
   "source": [
    "for student in students.keys():\n",
    "    print(student + \" is \" + str(students[student]) + \" years old\")"
   ]
  },
  {
   "cell_type": "markdown",
   "id": "86ecc58f-1c0b-437e-9f67-1c1626e91ebf",
   "metadata": {},
   "source": [
    "14. Is this dictionary the same as the one we produced with the for loop above? How is this different than the question comparing the two lists above?"
   ]
  },
  {
   "cell_type": "code",
   "execution_count": 36,
   "id": "87db8e3f-abcd-4b35-ab7d-124bf933a8b5",
   "metadata": {},
   "outputs": [],
   "source": [
    "studentDictionary={\n",
    "    \"Eric\":27,\n",
    "    \"Luis\":24,\n",
    "    \"Cece\":25\n",
    "}"
   ]
  },
  {
   "cell_type": "code",
   "execution_count": 37,
   "id": "042ea105-c68b-4815-a2b1-f08e540637b5",
   "metadata": {},
   "outputs": [
    {
     "data": {
      "text/plain": [
       "True"
      ]
     },
     "execution_count": 37,
     "metadata": {},
     "output_type": "execute_result"
    }
   ],
   "source": [
    "studentDictionary == students"
   ]
  },
  {
   "cell_type": "markdown",
   "id": "6e31a0c4-db6c-49d8-9cba-48d45c72dee1",
   "metadata": {},
   "source": [
    "15. Think about how you could modify this dictionary so it includes age, grade and gender?\n",
    "HINT: You can store tuples or lists or dictionaries within a dictionary "
   ]
  },
  {
   "cell_type": "code",
   "execution_count": null,
   "id": "2724fb3e-f01d-4b1f-888d-1d4df436b08c",
   "metadata": {},
   "outputs": [],
   "source": []
  }
 ],
 "metadata": {
  "kernelspec": {
   "display_name": "Python 3",
   "language": "python",
   "name": "python3"
  },
  "language_info": {
   "codemirror_mode": {
    "name": "ipython",
    "version": 3
   },
   "file_extension": ".py",
   "mimetype": "text/x-python",
   "name": "python",
   "nbconvert_exporter": "python",
   "pygments_lexer": "ipython3",
   "version": "3.8.8"
  }
 },
 "nbformat": 4,
 "nbformat_minor": 5
}
