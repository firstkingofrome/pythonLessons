{
 "cells": [
  {
   "cell_type": "markdown",
   "id": "e8af5054-e49b-4fcc-97fd-714ca606fa29",
   "metadata": {},
   "source": [
    "Week 3 review questions:"
   ]
  },
  {
   "cell_type": "markdown",
   "id": "ad0bb21c-e303-4bd9-bb36-dc992930429f",
   "metadata": {},
   "source": [
    "1. What will happend when you run the following?"
   ]
  },
  {
   "cell_type": "code",
   "execution_count": 1,
   "id": "d2d4a817-6cc8-43f2-a758-2473a7f99ac8",
   "metadata": {},
   "outputs": [],
   "source": [
    "x=[]\n",
    "y={\"one\":1,\"two\":2,\"three\":3}\n",
    "\n"
   ]
  },
  {
   "cell_type": "code",
   "execution_count": 2,
   "id": "3c82cf6f-96bd-4083-a03c-933653f17aba",
   "metadata": {},
   "outputs": [
    {
     "data": {
      "text/plain": [
       "list"
      ]
     },
     "execution_count": 2,
     "metadata": {},
     "output_type": "execute_result"
    }
   ],
   "source": [
    "type(x)"
   ]
  },
  {
   "cell_type": "code",
   "execution_count": 3,
   "id": "aacce49c-302d-433d-a0f8-8164ad372fb3",
   "metadata": {},
   "outputs": [
    {
     "data": {
      "text/plain": [
       "dict"
      ]
     },
     "execution_count": 3,
     "metadata": {},
     "output_type": "execute_result"
    }
   ],
   "source": [
    "type(y)"
   ]
  },
  {
   "cell_type": "code",
   "execution_count": 4,
   "id": "4f67b388-57b0-4621-a3ae-37d4052ca5a5",
   "metadata": {},
   "outputs": [],
   "source": [
    "#turn this into a list\n",
    "def rangeToList(start,stop):\n",
    "    output=[]\n",
    "    for i in range(start,stop):\n",
    "        output.append(i)\n",
    "    return output\n",
    "\n",
    "oneHunderedToOneThousand=rangeToList(100,1000)\n",
    "#oneHunderedToOneThousand\n",
    "\n",
    "#list(range(100,1000))\n"
   ]
  },
  {
   "cell_type": "code",
   "execution_count": 5,
   "id": "4d598622-4462-48a2-9c40-5999f673f0e8",
   "metadata": {},
   "outputs": [
    {
     "name": "stdout",
     "output_type": "stream",
     "text": [
      "<class 'list'>\n"
     ]
    }
   ],
   "source": [
    "print(type(list(y.keys())))\n"
   ]
  },
  {
   "cell_type": "code",
   "execution_count": 6,
   "id": "40370732-0e18-46ee-87da-ba98f177f03d",
   "metadata": {},
   "outputs": [],
   "source": [
    "for key in y.keys():\n",
    "    x.append(y[key])\n"
   ]
  },
  {
   "cell_type": "code",
   "execution_count": 7,
   "id": "9d43d863-d8d6-4e5a-8f68-22bceae8a900",
   "metadata": {},
   "outputs": [
    {
     "data": {
      "text/plain": [
       "[1, 2, 3]"
      ]
     },
     "execution_count": 7,
     "metadata": {},
     "output_type": "execute_result"
    }
   ],
   "source": [
    "x"
   ]
  },
  {
   "cell_type": "code",
   "execution_count": 8,
   "id": "1bce87ed-bb87-432d-9314-a6f58429c195",
   "metadata": {},
   "outputs": [
    {
     "data": {
      "text/plain": [
       "['one', 'two', 'three']"
      ]
     },
     "execution_count": 8,
     "metadata": {},
     "output_type": "execute_result"
    }
   ],
   "source": [
    "list(y.keys())"
   ]
  },
  {
   "cell_type": "code",
   "execution_count": 9,
   "id": "a9c85b64-67fd-4ecc-8146-4d704b8ecafe",
   "metadata": {},
   "outputs": [
    {
     "data": {
      "text/plain": [
       "[1, 2, 3]"
      ]
     },
     "execution_count": 9,
     "metadata": {},
     "output_type": "execute_result"
    }
   ],
   "source": [
    "x"
   ]
  },
  {
   "cell_type": "code",
   "execution_count": 10,
   "id": "14645c1e-b3ae-449a-97cb-e05ad313d1f7",
   "metadata": {},
   "outputs": [
    {
     "data": {
      "text/plain": [
       "3"
      ]
     },
     "execution_count": 10,
     "metadata": {},
     "output_type": "execute_result"
    }
   ],
   "source": [
    "len(x)"
   ]
  },
  {
   "cell_type": "code",
   "execution_count": 11,
   "id": "c386193f-4460-4017-a6ea-bf6bb14a37e7",
   "metadata": {},
   "outputs": [
    {
     "data": {
      "text/plain": [
       "array([1, 2, 3], dtype=int32)"
      ]
     },
     "execution_count": 11,
     "metadata": {},
     "output_type": "execute_result"
    }
   ],
   "source": [
    "import numpy as np\n",
    "anArray=np.array(x,dtype=np.int32)\n",
    "anArray"
   ]
  },
  {
   "cell_type": "code",
   "execution_count": 12,
   "id": "aa4c81f8-235a-43b8-8397-27da8a3875ae",
   "metadata": {},
   "outputs": [
    {
     "data": {
      "text/plain": [
       "(3,)"
      ]
     },
     "execution_count": 12,
     "metadata": {},
     "output_type": "execute_result"
    }
   ],
   "source": [
    "anArray.shape"
   ]
  },
  {
   "cell_type": "code",
   "execution_count": 13,
   "id": "2c62dd68-4628-4c80-8311-2db640f4e930",
   "metadata": {},
   "outputs": [
    {
     "name": "stdout",
     "output_type": "stream",
     "text": [
      "luis is older than cece\n"
     ]
    }
   ],
   "source": [
    "luisAge=27\n",
    "ceceAge=26\n",
    "\n",
    "if(luisAge==ceceAge):\n",
    "    print(\"cece and luis are the same age\")\n",
    "elif(luisAge>ceceAge):\n",
    "    print(\"luis is older than cece\")\n",
    "else:\n",
    "    print(\"cece is older than luis\")\n",
    "\n"
   ]
  },
  {
   "cell_type": "code",
   "execution_count": 14,
   "id": "b6a7d4b4-2677-4722-b441-89588bcdc1ff",
   "metadata": {},
   "outputs": [],
   "source": [
    "students={\"eric\":{\"age\":27,\"gpa\":3.8},\n",
    "          \"luis\":{\"age\":27,\"gpa\":4.0},\n",
    "          \"cece\":{\"age\":26,\"gpa\":4.0},\n",
    "         }"
   ]
  },
  {
   "cell_type": "code",
   "execution_count": 19,
   "id": "fa109d5b-74b7-45fe-b578-90cd4198dce7",
   "metadata": {},
   "outputs": [],
   "source": [
    "sumList=[1,2,3,4.02,5,6,7,8,9,10]"
   ]
  },
  {
   "cell_type": "markdown",
   "id": "55dc4ec6-f0a8-4780-a63f-8436200ecdde",
   "metadata": {},
   "source": [
    "2. Calculate the students average ages and gpa's from the students dictionary"
   ]
  },
  {
   "cell_type": "code",
   "execution_count": 20,
   "id": "552295fd-503a-45b4-a4e1-94ff362bfeb6",
   "metadata": {},
   "outputs": [
    {
     "name": "stdout",
     "output_type": "stream",
     "text": [
      "the average age is 26.67 and the average gpa is 3.93\n"
     ]
    }
   ],
   "source": [
    "averageAge=0\n",
    "averageGPA=0\n",
    "numStudents=0\n",
    "\n",
    "for student in students:\n",
    "    averageAge+=students[student][\"age\"]\n",
    "    averageGPA+=students[student][\"gpa\"]\n",
    "    numStudents+=1\n",
    "\n",
    "averageAge=averageAge/numStudents\n",
    "averageGPA=averageGPA/numStudents\n",
    "outputString=\"the average age is \" + \"{:.2f}\".format(averageAge) +\" and the average gpa is \" + \"{:.2f}\".format(averageGPA)\n",
    "print(outputString)"
   ]
  },
  {
   "cell_type": "markdown",
   "id": "5e4ff7bd-3465-4cd3-a5b5-5e2ad3f5d742",
   "metadata": {},
   "source": [
    "3. Sum the contents of sumList using a for loop"
   ]
  },
  {
   "cell_type": "code",
   "execution_count": 21,
   "id": "7cfa90b9-890d-46fb-9644-379c90457729",
   "metadata": {},
   "outputs": [
    {
     "name": "stdout",
     "output_type": "stream",
     "text": [
      "55.019999999999996\n",
      "55.019999999999996\n",
      "55.02\n"
     ]
    },
    {
     "data": {
      "text/plain": [
       "55.019999980926514"
      ]
     },
     "execution_count": 21,
     "metadata": {},
     "output_type": "execute_result"
    }
   ],
   "source": [
    "total=0\n",
    "for i in range(len(sumList)):\n",
    "    total+=sumList[i] \n",
    "print(total)\n",
    "\n",
    "#or\n",
    "\n",
    "total=0\n",
    "for currentValue in sumList:\n",
    "    total+=currentValue\n",
    "print(total)\n",
    "\n",
    "#or \n",
    "sumArray=np.array(sumList,dtype=np.float32)\n",
    "print(np.sum(sumArray))\n",
    "\n",
    "# or\n",
    "\n",
    "sum(sumArray)\n"
   ]
  },
  {
   "cell_type": "code",
   "execution_count": null,
   "id": "d7cffad3-91e3-469c-9d6c-7158645d7dae",
   "metadata": {},
   "outputs": [],
   "source": [
    "def forLoop(start,stop,step,opperation):\n",
    "    index=start\n",
    "    opperationOutputs=[]\n",
    "    while(index<stop):\n",
    "        opperationOutput+=\n",
    "        index+=1\n",
    "    "
   ]
  },
  {
   "cell_type": "markdown",
   "id": "78ffae5f-30bb-45d6-8ed3-08058bc3acf2",
   "metadata": {},
   "source": [
    "4. Explain the differences between a list, a dictionary and a numpy array"
   ]
  },
  {
   "cell_type": "markdown",
   "id": "1cc8db68-8cdb-4f23-8531-daad44806ae3",
   "metadata": {},
   "source": []
  },
  {
   "cell_type": "markdown",
   "id": "66edc3bb-27ac-4282-ab22-df7a8285cc48",
   "metadata": {},
   "source": [
    "Extra, if we have time"
   ]
  },
  {
   "cell_type": "markdown",
   "id": "1d6c89de-d5d8-49ee-b8b1-bbd41cd97ae1",
   "metadata": {},
   "source": [
    "Write a for loop using a while loop and sum over sum list"
   ]
  },
  {
   "cell_type": "code",
   "execution_count": null,
   "id": "ac478c01-9c4e-4898-a58a-478b26105ac5",
   "metadata": {},
   "outputs": [],
   "source": []
  }
 ],
 "metadata": {
  "kernelspec": {
   "display_name": "Python 3",
   "language": "python",
   "name": "python3"
  },
  "language_info": {
   "codemirror_mode": {
    "name": "ipython",
    "version": 3
   },
   "file_extension": ".py",
   "mimetype": "text/x-python",
   "name": "python",
   "nbconvert_exporter": "python",
   "pygments_lexer": "ipython3",
   "version": "3.8.8"
  }
 },
 "nbformat": 4,
 "nbformat_minor": 5
}
