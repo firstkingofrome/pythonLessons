{
 "cells": [
  {
   "cell_type": "code",
   "execution_count": 1,
   "id": "c4105bc7-e85a-4e00-8bc0-3196491288ed",
   "metadata": {},
   "outputs": [],
   "source": [
    "import json"
   ]
  },
  {
   "cell_type": "code",
   "execution_count": 2,
   "id": "472ea01f-6b54-4efa-86f1-c842e7220212",
   "metadata": {},
   "outputs": [],
   "source": [
    "students={\n",
    "    \"eric\":{\"age\":27,\"studentid\":12345,\"assignments\":{\"hwk1\":0.94,\"hwk2\":0.83,\"quiz1\":0.77}},\n",
    "    \"cece\":{\"age\":27,\"studentid\":54321,\"assignments\":{\"hwk1\":0.94,\"hwk2\":0.83,\"quiz1\":0.77}},\n",
    "    \"luis\":{\"age\":27,\"studentid\":123123,\"assignments\":{\"hwk1\":0.94,\"hwk2\":0.83,\"quiz1\":0.77}}\n",
    "}"
   ]
  },
  {
   "cell_type": "code",
   "execution_count": 3,
   "id": "66ff455a-8736-4a95-8b82-23b3a1d8f9d1",
   "metadata": {},
   "outputs": [],
   "source": [
    "def addAssignment(students,studentName,assignmentName,assignmentGrade):\n",
    "    students[studentName][\"assignments\"][assignmentName]=assignmentGrade\n",
    "    return students\n",
    "\n",
    "def saveGradeBook(gradeBookName,gradeBook):\n",
    "    with open(gradeBookName, 'w') as fileHandle:\n",
    "        json.dump(gradeBook, fileHandle)\n",
    "    \n",
    "    \n",
    "def loadGradeBook(fname):\n",
    "    with open(fname, 'r') as fileHandle:\n",
    "        data = json.load(fileHandle)\n",
    "    return data\n",
    "\n",
    "\n",
    "\"\"\"\n",
    "students:a dictionary containg the students\n",
    "assignmentName:name of the assignment I am calculating the average score for\n",
    "\"\"\"\n",
    "\n",
    "def averageScore(students,assignmentName):\n",
    "    scoreValue=0\n",
    "    numStudents=0\n",
    "    for student in students:\n",
    "        scoreValue+=students[student][\"assignments\"][assignmentName]\n",
    "        numStudents+=1\n",
    "    return scoreValue/numStudents"
   ]
  },
  {
   "cell_type": "code",
   "execution_count": 4,
   "id": "cef09816-cef5-4415-8988-146e1ad8e813",
   "metadata": {},
   "outputs": [],
   "source": [
    "students=addAssignment(students,\"eric\",\"test1\",0.7)\n",
    "students=addAssignment(students,\"luis\",\"test1\",0.7)\n",
    "students=addAssignment(students,\"cece\",\"test1\",0.7)"
   ]
  },
  {
   "cell_type": "code",
   "execution_count": 5,
   "id": "cc4471d4-a85b-4b59-922a-02745850cd2e",
   "metadata": {},
   "outputs": [],
   "source": [
    "saveGradeBook(\"gradeBook.json\",students)"
   ]
  },
  {
   "cell_type": "code",
   "execution_count": 6,
   "id": "9548b8c0-04ad-445f-bac1-6f798a764590",
   "metadata": {},
   "outputs": [],
   "source": [
    "students=loadGradeBook(\"gradeBook.json\")"
   ]
  },
  {
   "cell_type": "markdown",
   "id": "267c6e2d-6e69-429f-accb-c2f427b31cda",
   "metadata": {},
   "source": [
    "Managing a class with a dictionary is fine, but definetly tedious, what if there is a better way?"
   ]
  },
  {
   "cell_type": "code",
   "execution_count": 101,
   "id": "7e5f7e31-611b-405a-b78c-c9a336397c38",
   "metadata": {},
   "outputs": [],
   "source": [
    "class student():\n",
    "    def __init__(self, name, age,studentId):\n",
    "        self.name=name\n",
    "        self.age=age\n",
    "        self.id=studentId\n",
    "        self.assignments={}\n",
    "        \n",
    "    def addAssignment(self,assignmentName,assignmentScore):\n",
    "        self.assignments[assignmentName]=assignmentScore\n",
    "    \n",
    "    #calculates the average assignment score\n",
    "    def calculateGrade(self):\n",
    "        if(self.assignments=={}):\n",
    "            raise ValueError \n",
    "        gradetotal=0\n",
    "        numassignments=0\n",
    "        for assignment in self.assignments:\n",
    "            gradetotal+=self.assignments[assignment]\n",
    "            numassignments+=1\n",
    "        gradetotal=gradetotal/numassignments\n",
    "        return gradetotal\n",
    "    \n",
    "    def __str__(self):\n",
    "        return str(\"student name=\"+self.name+\"student age=\"+str(self.age))"
   ]
  },
  {
   "cell_type": "code",
   "execution_count": 102,
   "id": "9a2cc08f-bf4e-4c95-996e-59c28543a829",
   "metadata": {},
   "outputs": [],
   "source": [
    "cece=student(\"cece\",26,12346)"
   ]
  },
  {
   "cell_type": "code",
   "execution_count": 103,
   "id": "04da729c-0c9e-4046-83b9-ee647e3a2ca6",
   "metadata": {},
   "outputs": [
    {
     "name": "stdout",
     "output_type": "stream",
     "text": [
      "student name=cecestudent age=26\n"
     ]
    }
   ],
   "source": [
    "print(cece)"
   ]
  },
  {
   "cell_type": "code",
   "execution_count": 9,
   "id": "bbc94afa-3844-4329-b55b-70c5505bd87d",
   "metadata": {},
   "outputs": [],
   "source": [
    "cece.addAssignment(\"hwk1\",0.9)"
   ]
  },
  {
   "cell_type": "code",
   "execution_count": 10,
   "id": "deeaa4e5-9270-41dc-8e25-4c1d256d437d",
   "metadata": {},
   "outputs": [
    {
     "data": {
      "text/plain": [
       "0.9"
      ]
     },
     "execution_count": 10,
     "metadata": {},
     "output_type": "execute_result"
    }
   ],
   "source": [
    "cece.calculateGrade()"
   ]
  },
  {
   "cell_type": "code",
   "execution_count": 53,
   "id": "e59ccb06-b7cd-440f-ac5e-59652b4e27f6",
   "metadata": {},
   "outputs": [],
   "source": [
    "luis=student(\"luis\",27,654321)"
   ]
  },
  {
   "cell_type": "code",
   "execution_count": 54,
   "id": "46a4ac2b-c812-487e-9f34-da4c1f07054e",
   "metadata": {},
   "outputs": [
    {
     "data": {
      "text/plain": [
       "0.900001"
      ]
     },
     "execution_count": 54,
     "metadata": {},
     "output_type": "execute_result"
    }
   ],
   "source": [
    "luis.addAssignment(\"hwk1\",0.900001)\n",
    "luis.calculateGrade()"
   ]
  },
  {
   "cell_type": "markdown",
   "id": "95e59a42-d635-4fb9-9410-8a55e386d106",
   "metadata": {},
   "source": [
    "# Inheritance and composition\n",
    "\n",
    "Lets say I actually wanted to use the students to form a grade book. How could I do this?\n",
    "\n"
   ]
  },
  {
   "cell_type": "code",
   "execution_count": 21,
   "id": "630c9265-3288-438a-8a72-68ea64ef893d",
   "metadata": {},
   "outputs": [],
   "source": [
    "#one solution is to hold students in a list\n",
    "students=[student(\"cece\",26,12346),student(\"eric\",27,2345)]"
   ]
  },
  {
   "cell_type": "markdown",
   "id": "ffb70ed7-d1df-4702-a8bc-6ba0a95eaf84",
   "metadata": {},
   "source": [
    "### It may be a little better if I made a class for the gradebook instead.\n"
   ]
  },
  {
   "cell_type": "code",
   "execution_count": 22,
   "id": "5f42fefe-66ba-4aed-95dd-9f91ed5ac5d4",
   "metadata": {},
   "outputs": [],
   "source": [
    "class gradeBook():\n",
    "    def __init__(self,gradeBookName):\n",
    "        self.gradebookName=gradeBookName\n",
    "        self.students=[]\n",
    "        self.classAverage=-1\n",
    "        self.numStudents=0\n",
    "    def addStudent(self,student):\n",
    "        self.students.append(student)\n",
    "        self.numStudents+=1\n",
    "    \n",
    "\n"
   ]
  },
  {
   "cell_type": "code",
   "execution_count": 23,
   "id": "03e7f3d4-b53d-4723-97da-ebab00d192b9",
   "metadata": {},
   "outputs": [],
   "source": [
    "gradeBook=gradeBook(\"introToPython\")"
   ]
  },
  {
   "cell_type": "code",
   "execution_count": 24,
   "id": "74938a08-9f52-4d9a-bd40-c3c955410dcf",
   "metadata": {},
   "outputs": [],
   "source": [
    "gradeBook.addStudent(student(\"cece\",26,12346))\n",
    "gradeBook.addStudent(student(\"eric\",27,2345))"
   ]
  },
  {
   "cell_type": "markdown",
   "id": "b6ac3d9d-03e8-4ee1-9b88-ce70b25c4d94",
   "metadata": {},
   "source": [
    "### Inheritance\n",
    "\n",
    "I dont recomend that you guys use inheritance, I dont think it will be useful to you at your current level, and am just breifly introducing it. We will disscuss it later in greater detail if we have time"
   ]
  },
  {
   "cell_type": "code",
   "execution_count": 111,
   "id": "8f146403-075b-4680-b0b2-d408917f1996",
   "metadata": {},
   "outputs": [
    {
     "ename": "AttributeError",
     "evalue": "'student' object has no attribute 'age'",
     "output_type": "error",
     "traceback": [
      "\u001b[0;31m---------------------------------------------------------------------------\u001b[0m",
      "\u001b[0;31mAttributeError\u001b[0m                            Traceback (most recent call last)",
      "\u001b[0;32m<ipython-input-111-5e49f6d9e35f>\u001b[0m in \u001b[0;36m<module>\u001b[0;34m\u001b[0m\n\u001b[1;32m     13\u001b[0m \u001b[0;34m\u001b[0m\u001b[0m\n\u001b[1;32m     14\u001b[0m \u001b[0mluis\u001b[0m\u001b[0;34m=\u001b[0m\u001b[0mstudent\u001b[0m\u001b[0;34m(\u001b[0m\u001b[0;34m\"luis\"\u001b[0m\u001b[0;34m,\u001b[0m\u001b[0;36m12456\u001b[0m\u001b[0;34m)\u001b[0m\u001b[0;34m\u001b[0m\u001b[0;34m\u001b[0m\u001b[0m\n\u001b[0;32m---> 15\u001b[0;31m \u001b[0mluis\u001b[0m\u001b[0;34m.\u001b[0m\u001b[0mprintNameAge\u001b[0m\u001b[0;34m(\u001b[0m\u001b[0;34m)\u001b[0m\u001b[0;34m\u001b[0m\u001b[0;34m\u001b[0m\u001b[0m\n\u001b[0m",
      "\u001b[0;32m<ipython-input-111-5e49f6d9e35f>\u001b[0m in \u001b[0;36mprintNameAge\u001b[0;34m(self)\u001b[0m\n\u001b[1;32m      4\u001b[0m         \u001b[0mself\u001b[0m\u001b[0;34m.\u001b[0m\u001b[0mage\u001b[0m \u001b[0;34m=\u001b[0m \u001b[0mage\u001b[0m\u001b[0;34m\u001b[0m\u001b[0;34m\u001b[0m\u001b[0m\n\u001b[1;32m      5\u001b[0m     \u001b[0;32mdef\u001b[0m \u001b[0mprintNameAge\u001b[0m\u001b[0;34m(\u001b[0m\u001b[0mself\u001b[0m\u001b[0;34m)\u001b[0m\u001b[0;34m:\u001b[0m\u001b[0;34m\u001b[0m\u001b[0;34m\u001b[0m\u001b[0m\n\u001b[0;32m----> 6\u001b[0;31m         \u001b[0mprint\u001b[0m\u001b[0;34m(\u001b[0m\u001b[0;34m\"Person Name:\"\u001b[0m\u001b[0;34m+\u001b[0m\u001b[0mself\u001b[0m\u001b[0;34m.\u001b[0m\u001b[0mname\u001b[0m\u001b[0;34m+\u001b[0m\u001b[0;34m\" person age:\"\u001b[0m\u001b[0;34m+\u001b[0m\u001b[0mstr\u001b[0m\u001b[0;34m(\u001b[0m\u001b[0mself\u001b[0m\u001b[0;34m.\u001b[0m\u001b[0mage\u001b[0m\u001b[0;34m)\u001b[0m\u001b[0;34m)\u001b[0m\u001b[0;34m\u001b[0m\u001b[0;34m\u001b[0m\u001b[0m\n\u001b[0m\u001b[1;32m      7\u001b[0m \u001b[0;34m\u001b[0m\u001b[0m\n\u001b[1;32m      8\u001b[0m \u001b[0;32mclass\u001b[0m \u001b[0mstudent\u001b[0m\u001b[0;34m(\u001b[0m\u001b[0mperson\u001b[0m\u001b[0;34m)\u001b[0m\u001b[0;34m:\u001b[0m\u001b[0;34m\u001b[0m\u001b[0;34m\u001b[0m\u001b[0m\n",
      "\u001b[0;31mAttributeError\u001b[0m: 'student' object has no attribute 'age'"
     ]
    }
   ],
   "source": [
    "class person():\n",
    "    def __init__(self, name,age):\n",
    "        self.name = name\n",
    "        self.age = age\n",
    "    def printNameAge(self):\n",
    "        print(\"Person Name:\"+self.name+\" person age:\"+str(self.age))\n",
    "\n",
    "class student(person):\n",
    "    def __init__(self, name, age,studentID):\n",
    "        self.name = name\n",
    "        self.age=age\n",
    "        self.studentID = studentID\n",
    "\n",
    "luis=student(\"luis\",26,12456)\n",
    "luis.printNameAge()"
   ]
  },
  {
   "cell_type": "markdown",
   "id": "769c0681-824b-459d-8903-58409bad3280",
   "metadata": {},
   "source": [
    "# Overloading Opperators"
   ]
  },
  {
   "cell_type": "code",
   "execution_count": 42,
   "id": "efcfa846-5597-421f-b4c3-1481e88a2482",
   "metadata": {},
   "outputs": [
    {
     "data": {
      "text/plain": [
       "6"
      ]
     },
     "execution_count": 42,
     "metadata": {},
     "output_type": "execute_result"
    }
   ],
   "source": [
    "a=2\n",
    "b=4\n",
    "a.__add__(b)\n",
    "a+b"
   ]
  },
  {
   "cell_type": "code",
   "execution_count": 72,
   "id": "05a418d7-9a05-4c46-a771-cb4fe368890b",
   "metadata": {},
   "outputs": [
    {
     "data": {
      "text/plain": [
       "[2, 5]"
      ]
     },
     "execution_count": 72,
     "metadata": {},
     "output_type": "execute_result"
    }
   ],
   "source": [
    "one=[1,2] #1+2i\n",
    "two=[1,3]#1+3i\n",
    "def addComplex(one,two):\n",
    "    return [one[0]+two[0],one[1]+two[1]]\n",
    "\n",
    "addComplex(one,two) #2+5i [2,5]"
   ]
  },
  {
   "cell_type": "code",
   "execution_count": 97,
   "id": "0c44ddcc-1339-4873-8763-da39769cf8d7",
   "metadata": {},
   "outputs": [],
   "source": [
    "class Complex:\n",
    "    def __init__(self, realpart, imagpart=0.0):\n",
    "        self.real = realpart\n",
    "        self.imag = imagpart\n",
    "    \n",
    "    def add(self,secondNumber):\n",
    "        return  Complex(self.real+secondNumber.real,self.imag+secondNumber.imag)\n",
    "    \n",
    "    def __add__(self, other):\n",
    "        return Complex(self.real + other.real, self.imag + other.imag)\n",
    "    \n",
    "    def __sub__(self, other):\n",
    "        return Complex(self.real - other.real, self.imag - other.image)\n",
    "    \n",
    "    def __mul__(self, other):\n",
    "        return Complex(self.real * other.real - self.imag * other.imag, self.imag         * other.real + self.real * other.real)\n",
    "\n",
    "    def __abs__(self):\n",
    "        new = (self.real**2 + (self.imag**2)*-1)\n",
    "        return Complex(sqrt(new.real))\n",
    "    \n",
    "    def __str__(self):\n",
    "        return str(self.real) + \" \" + str(self.imag)\n",
    "\n"
   ]
  },
  {
   "cell_type": "code",
   "execution_count": 98,
   "id": "5b17f95b-b429-4933-a242-a8c769104b51",
   "metadata": {},
   "outputs": [
    {
     "name": "stdout",
     "output_type": "stream",
     "text": [
      "5 15j\n"
     ]
    }
   ],
   "source": [
    "i = Complex(2, 10j)\n",
    "k = Complex(3, 5j)\n",
    "result=i + k\n",
    "i.__add__(k)\n",
    "print(result)"
   ]
  },
  {
   "cell_type": "code",
   "execution_count": null,
   "id": "a3313551-aae2-4ec7-994d-820f9bd9ab19",
   "metadata": {},
   "outputs": [],
   "source": []
  }
 ],
 "metadata": {
  "kernelspec": {
   "display_name": "Python 3",
   "language": "python",
   "name": "python3"
  },
  "language_info": {
   "codemirror_mode": {
    "name": "ipython",
    "version": 3
   },
   "file_extension": ".py",
   "mimetype": "text/x-python",
   "name": "python",
   "nbconvert_exporter": "python",
   "pygments_lexer": "ipython3",
   "version": "3.8.8"
  }
 },
 "nbformat": 4,
 "nbformat_minor": 5
}
