{
 "cells": [
  {
   "cell_type": "code",
   "execution_count": 1,
   "id": "c4105bc7-e85a-4e00-8bc0-3196491288ed",
   "metadata": {},
   "outputs": [],
   "source": [
    "import json"
   ]
  },
  {
   "cell_type": "code",
   "execution_count": 2,
   "id": "472ea01f-6b54-4efa-86f1-c842e7220212",
   "metadata": {},
   "outputs": [],
   "source": [
    "students={\n",
    "    \"eric\":{\"age\":27,\"studentid\":12345,\"assignments\":{\"hwk1\":0.94,\"hwk2\":0.83,\"quiz1\":0.77}},\n",
    "    \"cece\":{\"age\":27,\"studentid\":54321,\"assignments\":{\"hwk1\":0.94,\"hwk2\":0.83,\"quiz1\":0.77}},\n",
    "    \"luis\":{\"age\":27,\"studentid\":123123,\"assignments\":{\"hwk1\":0.94,\"hwk2\":0.83,\"quiz1\":0.77}}\n",
    "}"
   ]
  },
  {
   "cell_type": "code",
   "execution_count": 12,
   "id": "66ff455a-8736-4a95-8b82-23b3a1d8f9d1",
   "metadata": {},
   "outputs": [],
   "source": [
    "def addAssignment(students,studentName,assignmentName,assignmentGrade):\n",
    "    students[studentName][\"assignments\"][assignmentName]=assignmentGrade\n",
    "    return students\n",
    "\n",
    "def saveGradeBook(gradeBookName,gradeBook):\n",
    "    with open(gradeBookName, 'w') as fileHandle:\n",
    "        json.dump(gradeBook, fileHandle)\n",
    "    \n",
    "    \n",
    "def loadGradeBook(fname):\n",
    "    with open(fname, 'r') as fileHandle:\n",
    "        data = json.load(fileHandle)\n",
    "    return data\n",
    "\n",
    "\n",
    "\"\"\"\n",
    "students:a dictionary containg the students\n",
    "assignmentName:name of the assignment I am calculating the average score for\n",
    "\"\"\"\n",
    "\n",
    "def averageScore(students,assignmentName):\n",
    "    scoreValue=0\n",
    "    numStudents=0\n",
    "    for student in students:\n",
    "        scoreValue+=students[student][\"assignments\"][assignmentName]\n",
    "        numStudents+=1\n",
    "    return scoreValue/numStudents"
   ]
  },
  {
   "cell_type": "code",
   "execution_count": 14,
   "id": "cef09816-cef5-4415-8988-146e1ad8e813",
   "metadata": {},
   "outputs": [],
   "source": [
    "students=addAssignment(students,\"eric\",\"test1\",0.7)\n",
    "students=addAssignment(students,\"luis\",\"test1\",0.7)\n",
    "students=addAssignment(students,\"cece\",\"test1\",0.7)"
   ]
  },
  {
   "cell_type": "code",
   "execution_count": null,
   "id": "cc4471d4-a85b-4b59-922a-02745850cd2e",
   "metadata": {},
   "outputs": [],
   "source": [
    "saveGradeBook(\"gradeBook.json\",students)"
   ]
  },
  {
   "cell_type": "code",
   "execution_count": 8,
   "id": "9548b8c0-04ad-445f-bac1-6f798a764590",
   "metadata": {},
   "outputs": [],
   "source": [
    "students=loadGradeBook(\"gradeBook.json\")"
   ]
  },
  {
   "cell_type": "markdown",
   "id": "267c6e2d-6e69-429f-accb-c2f427b31cda",
   "metadata": {},
   "source": [
    "Managing a class with a dictionary is fine, but definetly tedious, what if there is a better way?"
   ]
  },
  {
   "cell_type": "code",
   "execution_count": 42,
   "id": "7e5f7e31-611b-405a-b78c-c9a336397c38",
   "metadata": {},
   "outputs": [],
   "source": [
    "class student():\n",
    "    def __init__(self, name, age,studentId):\n",
    "        self.name=name\n",
    "        self.age=age\n",
    "        self.id=studentId\n",
    "        self.assignments={}\n",
    "        \n",
    "    def addAssignment(self,assignmentName,assignmentScore):\n",
    "        self.assignments[assignmentName]=assignmentScore\n",
    "    \n",
    "    #calculates the average assignment score\n",
    "    def calculateGrade(self):\n",
    "        if(self.assignments=={}):\n",
    "            raise ValueError \n",
    "        gradetotal=0\n",
    "        numassignments=0\n",
    "        for assignment in self.assignments:\n",
    "            gradetotal+=self.assignments[assignment]\n",
    "            numassignments+=1\n",
    "        gradetotal=gradetotal/numassignments\n",
    "        return gradetotal"
   ]
  },
  {
   "cell_type": "code",
   "execution_count": 43,
   "id": "9a2cc08f-bf4e-4c95-996e-59c28543a829",
   "metadata": {},
   "outputs": [],
   "source": [
    "cece=student(\"cece\",26,12346)"
   ]
  },
  {
   "cell_type": "code",
   "execution_count": 44,
   "id": "bbc94afa-3844-4329-b55b-70c5505bd87d",
   "metadata": {},
   "outputs": [],
   "source": [
    "cece.addAssignment(\"hwk1\",0.9)"
   ]
  },
  {
   "cell_type": "code",
   "execution_count": 45,
   "id": "deeaa4e5-9270-41dc-8e25-4c1d256d437d",
   "metadata": {},
   "outputs": [
    {
     "data": {
      "text/plain": [
       "0.9"
      ]
     },
     "execution_count": 45,
     "metadata": {},
     "output_type": "execute_result"
    }
   ],
   "source": [
    "cece.calculateGrade()"
   ]
  },
  {
   "cell_type": "code",
   "execution_count": 46,
   "id": "e59ccb06-b7cd-440f-ac5e-59652b4e27f6",
   "metadata": {},
   "outputs": [],
   "source": [
    "luis=student(\"luis\",27,654321)"
   ]
  },
  {
   "cell_type": "code",
   "execution_count": 48,
   "id": "041e8d0b-c0f9-4e3b-9417-44c7c9f192f2",
   "metadata": {},
   "outputs": [
    {
     "data": {
      "text/plain": [
       "0.900001"
      ]
     },
     "execution_count": 48,
     "metadata": {},
     "output_type": "execute_result"
    }
   ],
   "source": [
    "luis.addAssignment(\"hwk1\",0.900001)\n",
    "luis.calculateGrade()"
   ]
  },
  {
   "cell_type": "code",
   "execution_count": null,
   "id": "0c44ddcc-1339-4873-8763-da39769cf8d7",
   "metadata": {},
   "outputs": [],
   "source": [
    "class Complex:\n",
    "    def __init__(self, realpart, imagpart=0.0):\n",
    "        self.real = realpart\n",
    "        self.imag = imagpart\n",
    "    \n",
    "    def __add__(self, other):\n",
    "        return Complex(self.real + other.real, self.imag + other.imag)\n",
    "    \n",
    "    def __sub__(self, other):\n",
    "        return Complex(self.real - other.real, self.imag - other.image)\n",
    "    \n",
    "    def __mul__(self, other):\n",
    "        return Complex(self.real * other.real - self.imag * other.imag, self.imag         * other.real + self.real * other.real)\n",
    "\n",
    "    def __abs__(self):\n",
    "        new = (self.real**2 + (self.imag**2)*-1)\n",
    "        return Complex(sqrt(new.real))\n",
    "    \n",
    "    def __str__(self):\n",
    "        #Do whatever you want here\n",
    "        return str(self.real) + \" \" + str(self.imag)\n",
    "\n"
   ]
  },
  {
   "cell_type": "code",
   "execution_count": null,
   "id": "5b17f95b-b429-4933-a242-a8c769104b51",
   "metadata": {},
   "outputs": [],
   "source": [
    "i = Complex(2, 10j)\n",
    "k = Complex(3, 5j)\n",
    "result=i + k\n",
    "print(result)"
   ]
  },
  {
   "cell_type": "code",
   "execution_count": null,
   "id": "a3313551-aae2-4ec7-994d-820f9bd9ab19",
   "metadata": {},
   "outputs": [],
   "source": []
  }
 ],
 "metadata": {
  "kernelspec": {
   "display_name": "Python 3",
   "language": "python",
   "name": "python3"
  },
  "language_info": {
   "codemirror_mode": {
    "name": "ipython",
    "version": 3
   },
   "file_extension": ".py",
   "mimetype": "text/x-python",
   "name": "python",
   "nbconvert_exporter": "python",
   "pygments_lexer": "ipython3",
   "version": "3.8.8"
  }
 },
 "nbformat": 4,
 "nbformat_minor": 5
}
