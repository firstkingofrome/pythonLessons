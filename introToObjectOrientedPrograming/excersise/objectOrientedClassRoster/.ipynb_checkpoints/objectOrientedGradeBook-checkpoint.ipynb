{
 "cells": [
  {
   "cell_type": "code",
   "execution_count": 1,
   "id": "ae748fc2-48bb-4cac-9843-f9162448132e",
   "metadata": {},
   "outputs": [],
   "source": [
    "import json\n",
    "import os"
   ]
  },
  {
   "cell_type": "code",
   "execution_count": 2,
   "id": "b193a2f1-56cb-41dc-9f8f-e7ebe972cd70",
   "metadata": {},
   "outputs": [],
   "source": [
    "class student(object):\n",
    "    \"\"\"\n",
    "    name:str:students name\n",
    "    age:int:\n",
    "    \"\"\"\n",
    "    def __init__(self,name,age,studentIDNum):\n",
    "        self.name=name\n",
    "        self.age=age\n",
    "        self.studentIDNum=studentIDNum\n",
    "        self.assignments={}\n",
    "    \n",
    "    def addAssignment(self,assignmentName,assigmentGrade):\n",
    "        self.assignments[assignmentName]=assigmentGrade\n",
    "        \n",
    "    def removeAssignment(self,assingmentName):\n",
    "        #self.assignments[assignmentName].__delitem__(assingmentName)\n",
    "        del self.assignments[assingmentName]\n",
    "    \n",
    "    def studentAverage(self):\n",
    "        numAssignments=0\n",
    "        totalScore=0\n",
    "        for assignment in self.assignments:\n",
    "            numAssignments+=1\n",
    "            totalScore+=self.assignments[assignment]\n",
    "        return totalScore/numAssignments\n",
    "    \n",
    "    def __str__(self):\n",
    "        return self.name + \" \" + str(self.studentIDNum)\n",
    "        \n",
    "\n",
    "class gradeBook(object):\n",
    "    def __init__(self,gradeBookName):\n",
    "        #empty list to hold students\n",
    "        self.students=[]\n",
    "        self.gradeBookName=gradeBookName\n",
    "        self.numStudents=0\n",
    "        self.classAverage=-1\n",
    "    \n",
    "    def addStudent(self,student):\n",
    "        self.students.append(student)\n",
    "        self.numStudents+=1\n",
    "        \n",
    "    def removeStudent(self,studentName):\n",
    "        pass\n",
    "    \n",
    "    def calculateClassAverage(self):\n",
    "        \"\"\"\n",
    "        complete this function\n",
    "        \n",
    "        \"\"\"\n",
    "        totalScore=0\n",
    "        numStudents=0\n",
    "        for student in self.students:\n",
    "            numStudents+=1\n",
    "            totalScore+=student.studentAverage()\n",
    "        pass\n",
    "    \n",
    "    def addAssignemnt(self,assigmentName,assignmentGrade,studentName):\n",
    "        \n",
    "        pass\n",
    "\n",
    "    def removeAssignment(self,assigmentName,assignmentGrade,studentName):\n",
    "        \n",
    "        pass"
   ]
  },
  {
   "cell_type": "code",
   "execution_count": 3,
   "id": "95959e3c-0228-4188-b38b-9899881f44e5",
   "metadata": {},
   "outputs": [],
   "source": [
    "#demo student\n",
    "#student(\"eric\",27,123456)\n",
    "eric=student(age=27,studentIDNum=123456,name=\"eric\")\n",
    "eric.addAssignment(\"hwk1\",0.94)\n",
    "eric.addAssignment(\"hwk2\",0.84)\n",
    "cece=student(age=27,studentIDNum=123456,name=\"cece\")\n",
    "cece.addAssignment(\"hwk1\",0.94)\n",
    "cece.addAssignment(\"hwk2\",0.84)\n",
    "\n"
   ]
  },
  {
   "cell_type": "code",
   "execution_count": 4,
   "id": "c2056489-5696-411b-8d77-1421bc3fe673",
   "metadata": {},
   "outputs": [
    {
     "data": {
      "text/plain": [
       "{'hwk1': 0.94, 'hwk2': 0.84}"
      ]
     },
     "execution_count": 4,
     "metadata": {},
     "output_type": "execute_result"
    }
   ],
   "source": [
    "eric.assignments"
   ]
  },
  {
   "cell_type": "code",
   "execution_count": 5,
   "id": "4cabd65a-e69b-4200-954d-ed631fd0e910",
   "metadata": {},
   "outputs": [
    {
     "data": {
      "text/plain": [
       "{'hwk2': 0.84}"
      ]
     },
     "execution_count": 5,
     "metadata": {},
     "output_type": "execute_result"
    }
   ],
   "source": [
    "eric.removeAssignment(\"hwk1\")\n",
    "eric.assignments"
   ]
  },
  {
   "cell_type": "code",
   "execution_count": 6,
   "id": "0df88fbc-fcf1-459f-81b3-cfad89963258",
   "metadata": {},
   "outputs": [
    {
     "data": {
      "text/plain": [
       "0.8899999999999999"
      ]
     },
     "execution_count": 6,
     "metadata": {},
     "output_type": "execute_result"
    }
   ],
   "source": [
    "eric.addAssignment(\"hwk1\",0.94)\n",
    "eric.studentAverage()\n"
   ]
  },
  {
   "cell_type": "code",
   "execution_count": 7,
   "id": "3326145f-1802-4cb8-a575-4e1cc042d61f",
   "metadata": {},
   "outputs": [
    {
     "data": {
      "text/plain": [
       "__main__.student"
      ]
     },
     "execution_count": 7,
     "metadata": {},
     "output_type": "execute_result"
    }
   ],
   "source": [
    "type(eric)"
   ]
  },
  {
   "cell_type": "code",
   "execution_count": 8,
   "id": "f11afc45-a501-4131-a48a-440fba2d8775",
   "metadata": {},
   "outputs": [
    {
     "data": {
      "text/plain": [
       "'programmingClass'"
      ]
     },
     "execution_count": 8,
     "metadata": {},
     "output_type": "execute_result"
    }
   ],
   "source": [
    "#gradebook test code\n",
    "programmingClass=gradeBook(\"programmingClass\")\n",
    "programmingClass.gradeBookName"
   ]
  },
  {
   "cell_type": "code",
   "execution_count": 9,
   "id": "f6c1a826-8fa9-4a82-abb6-dfbfb88f0337",
   "metadata": {},
   "outputs": [],
   "source": [
    "programmingClass.addStudent(eric)\n",
    "programmingClass.addStudent(cece)"
   ]
  },
  {
   "cell_type": "code",
   "execution_count": 10,
   "id": "a92c0c58-2be9-4ec8-9f57-bf0adba85e53",
   "metadata": {},
   "outputs": [
    {
     "name": "stdout",
     "output_type": "stream",
     "text": [
      "eric 123456\n"
     ]
    }
   ],
   "source": [
    "print(eric)"
   ]
  },
  {
   "cell_type": "code",
   "execution_count": null,
   "id": "42622961-d9e1-4073-b116-64d1bbee7275",
   "metadata": {},
   "outputs": [],
   "source": []
  }
 ],
 "metadata": {
  "kernelspec": {
   "display_name": "Python 3",
   "language": "python",
   "name": "python3"
  },
  "language_info": {
   "codemirror_mode": {
    "name": "ipython",
    "version": 3
   },
   "file_extension": ".py",
   "mimetype": "text/x-python",
   "name": "python",
   "nbconvert_exporter": "python",
   "pygments_lexer": "ipython3",
   "version": "3.8.8"
  }
 },
 "nbformat": 4,
 "nbformat_minor": 5
}
