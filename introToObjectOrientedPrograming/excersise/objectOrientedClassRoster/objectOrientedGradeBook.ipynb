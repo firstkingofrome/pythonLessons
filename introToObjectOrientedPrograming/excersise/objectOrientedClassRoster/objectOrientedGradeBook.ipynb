{
 "cells": [
  {
   "cell_type": "code",
   "execution_count": 1,
   "id": "ae748fc2-48bb-4cac-9843-f9162448132e",
   "metadata": {},
   "outputs": [],
   "source": [
    "import json\n",
    "import os\n",
    "import pickle\n",
    "#https://www.techcoil.com/blog/how-to-save-and-load-objects-to-and-from-file-in-python-via-facilities-from-the-pickle-module/"
   ]
  },
  {
   "cell_type": "code",
   "execution_count": 2,
   "id": "b193a2f1-56cb-41dc-9f8f-e7ebe972cd70",
   "metadata": {},
   "outputs": [],
   "source": [
    "class student(object):\n",
    "    \"\"\"\n",
    "    name:str:students name\n",
    "    age:int:\n",
    "    \"\"\"\n",
    "    def __init__(self,name=None,age=None,studentIDNum=None,fname=None):\n",
    "        if(fname==None):\n",
    "            self.name=name\n",
    "            self.age=age\n",
    "            self.studentIDNum=studentIDNum\n",
    "            self.assignments={}\n",
    "        else:\n",
    "            self.name=None\n",
    "            self.age=None\n",
    "            self.studentIDNum=None\n",
    "            self.assignments={}\n",
    "            self.importStudent(fname)\n",
    "                \n",
    "    def importStudent(self,fname):\n",
    "        with open(fname, 'r') as fp:\n",
    "            students = json.load(fp)\n",
    "        self.name=students[\"name\"]\n",
    "        self.name=students[\"name\"]\n",
    "\n",
    "\n",
    "        return\n",
    "    \n",
    "    def addAssignment(self,assignmentName,assigmentGrade):\n",
    "        self.assignments[assignmentName]=assigmentGrade\n",
    "        \n",
    "    def removeAssignment(self,assingmentName):\n",
    "        #self.assignments[assignmentName].__delitem__(assingmentName)\n",
    "        del self.assignments[assingmentName]\n",
    "    \n",
    "    def studentAverage(self):\n",
    "        numAssignments=0\n",
    "        totalScore=0\n",
    "        for assignment in self.assignments:\n",
    "            numAssignments+=1\n",
    "            totalScore+=self.assignments[assignment]\n",
    "        return totalScore/numAssignments\n",
    "    \n",
    "    def __str__(self):\n",
    "        return self.name + \" \" + str(self.studentIDNum)\n",
    "    \n",
    "    \"\"\"\n",
    "    saves the student record to a json file\n",
    "    \"\"\"\n",
    "    def exportStudent(self,fname):\n",
    "        studentDictionary={}\n",
    "        studentDictionary['assignments']=self.assignments\n",
    "        studentDictionary['name']=self.name\n",
    "        studentDictionary['age']=self.age\n",
    "        studentDictionary['studentIDNum']=self.studentIDNum\n",
    "        with open(fname, 'w') as fp:\n",
    "            json.dump(studentDictionary, fp)\n",
    "        \n",
    "\n",
    "class gradeBook(object):\n",
    "    def __init__(self,gradeBookName):\n",
    "        #empty list to hold students\n",
    "        self.students=[]\n",
    "        self.gradeBookName=gradeBookName\n",
    "        self.numStudents=0\n",
    "        self.classAverage=-1\n",
    "    \n",
    "    def addStudent(self,student):\n",
    "        self.students.append(student)\n",
    "        self.numStudents+=1\n",
    "        \n",
    "    def removeStudent(self,studentName):\n",
    "        pass\n",
    "    \n",
    "    ### return a list of all of the names of the students in the class\n",
    "    def getStudentNames(self):\n",
    "        names=[]\n",
    "        for student in self.students:\n",
    "            names.append(student.name)\n",
    "        return names\n",
    "    \n",
    "    def calculateClassAverage(self):\n",
    "        \"\"\"\n",
    "        complete this function\n",
    "        \n",
    "        \"\"\"\n",
    "        totalScore=0\n",
    "        numStudents=0\n",
    "        for student in self.students:\n",
    "            numStudents+=1\n",
    "            totalScore+=student.studentAverage()\n",
    "        pass\n",
    "    \n",
    "    \"\"\"\n",
    "\n",
    "    assignmentName\n",
    "    \"\"\"\n",
    "    def addAssignment(self,assignmentName,studentNames,studentsGrades):\n",
    "        for i in range(len(studentNames)):\n",
    "            self.students[i].addAssignment(assignmentName,studentsGrades[i])\n",
    "        \n",
    "\n",
    "    def removeAssignment(self,assigmentName,assignmentGrade,studentName):\n",
    "        \n",
    "        pass\n",
    "    \n",
    "    def exportGradeBook(self,gradeBookName):\n",
    "        #exports a grade book as a json file\n",
    "        pass"
   ]
  },
  {
   "cell_type": "code",
   "execution_count": null,
   "id": "e8ce35db-7d2f-4698-b5d9-d4a0379e72a9",
   "metadata": {},
   "outputs": [],
   "source": [
    "\"\"\"\n",
    "Remember on lecturing about how to save class instances as pickels and how to save them\n",
    "as other datatypes (like in a dictionary)\n",
    "\"\"\""
   ]
  },
  {
   "cell_type": "code",
   "execution_count": null,
   "id": "95959e3c-0228-4188-b38b-9899881f44e5",
   "metadata": {},
   "outputs": [],
   "source": [
    "#demo student\n",
    "#student(\"eric\",27,123456)\n",
    "eric=student(age=27,studentIDNum=123456,name=\"eric\")\n",
    "eric.addAssignment(\"hwk1\",0.94)\n",
    "eric.addAssignment(\"hwk2\",0.84)\n",
    "cece=student(age=27,studentIDNum=123456,name=\"cece\")\n",
    "cece.addAssignment(\"hwk1\",0.94)\n",
    "cece.addAssignment(\"hwk2\",0.84)\n",
    "\n"
   ]
  },
  {
   "cell_type": "code",
   "execution_count": null,
   "id": "f76b70bd-b1d3-420f-a907-74f02d5389dc",
   "metadata": {},
   "outputs": [],
   "source": []
  },
  {
   "cell_type": "code",
   "execution_count": null,
   "id": "c2056489-5696-411b-8d77-1421bc3fe673",
   "metadata": {},
   "outputs": [],
   "source": [
    "eric.exportStudent(\"eric.json\")\n",
    "test=student(fname=\"eric.json\")"
   ]
  },
  {
   "cell_type": "code",
   "execution_count": null,
   "id": "4cabd65a-e69b-4200-954d-ed631fd0e910",
   "metadata": {},
   "outputs": [],
   "source": [
    "eric.removeAssignment(\"hwk1\")\n",
    "eric.assignments"
   ]
  },
  {
   "cell_type": "code",
   "execution_count": null,
   "id": "0df88fbc-fcf1-459f-81b3-cfad89963258",
   "metadata": {},
   "outputs": [],
   "source": [
    "eric.addAssignment(\"hwk1\",0.94)\n",
    "eric.studentAverage()\n"
   ]
  },
  {
   "cell_type": "code",
   "execution_count": null,
   "id": "3326145f-1802-4cb8-a575-4e1cc042d61f",
   "metadata": {},
   "outputs": [],
   "source": [
    "type(eric)"
   ]
  },
  {
   "cell_type": "code",
   "execution_count": null,
   "id": "f11afc45-a501-4131-a48a-440fba2d8775",
   "metadata": {},
   "outputs": [],
   "source": [
    "#gradebook test code\n",
    "programmingClass=gradeBook(\"programmingClass\")\n",
    "programmingClass.gradeBookName"
   ]
  },
  {
   "cell_type": "code",
   "execution_count": null,
   "id": "f6c1a826-8fa9-4a82-abb6-dfbfb88f0337",
   "metadata": {},
   "outputs": [],
   "source": [
    "programmingClass.addStudent(eric)\n",
    "programmingClass.addStudent(cece)"
   ]
  },
  {
   "cell_type": "code",
   "execution_count": null,
   "id": "a92c0c58-2be9-4ec8-9f57-bf0adba85e53",
   "metadata": {},
   "outputs": [],
   "source": [
    "programmingClass.getStudentNames()"
   ]
  },
  {
   "cell_type": "code",
   "execution_count": null,
   "id": "6a568b7c-24a0-4d2b-ae34-6554d18f0ec2",
   "metadata": {},
   "outputs": [],
   "source": [
    "with open('programmingClass', 'wb') as fp:\n",
    "    pickle.dump(programmingClass, fp)"
   ]
  },
  {
   "cell_type": "code",
   "execution_count": 4,
   "id": "8644195f-fba3-4052-9cef-facad314c880",
   "metadata": {},
   "outputs": [],
   "source": [
    "with open('programmingClass', 'rb') as fp:\n",
    "    programmingClass = pickle.load(fp)\n"
   ]
  },
  {
   "cell_type": "code",
   "execution_count": null,
   "id": "42622961-d9e1-4073-b116-64d1bbee7275",
   "metadata": {},
   "outputs": [],
   "source": [
    "names=[\"cece\",]\n",
    "grades=[0.95,0.84]\n",
    "assignmentName=\"hwk5\"\n",
    "programmingClass.addAssignment(\"hwk5\",names,grades)\n"
   ]
  },
  {
   "cell_type": "code",
   "execution_count": null,
   "id": "b5342518-ebb6-43a1-94c6-0936dac7864a",
   "metadata": {},
   "outputs": [],
   "source": [
    "for i in range(len(grades)):\n",
    "    print(names[i],str(grades[i]))"
   ]
  },
  {
   "cell_type": "code",
   "execution_count": null,
   "id": "1bd94637-14d0-47a7-afdb-71537b674990",
   "metadata": {},
   "outputs": [],
   "source": [
    "import numpy as np"
   ]
  },
  {
   "cell_type": "code",
   "execution_count": null,
   "id": "f7cfca78-b67f-41e2-9000-f10ad510e50d",
   "metadata": {},
   "outputs": [],
   "source": [
    "test=np.array([1,2,3,4,5,6])"
   ]
  },
  {
   "cell_type": "code",
   "execution_count": null,
   "id": "85050e60-6c79-4531-a9ef-366ce18a364e",
   "metadata": {},
   "outputs": [],
   "source": [
    "np.save(\"test.npy\",test)"
   ]
  },
  {
   "cell_type": "code",
   "execution_count": null,
   "id": "ebbb483f-d15d-493f-b58a-e5e391f217e3",
   "metadata": {},
   "outputs": [],
   "source": [
    "x=np.load(\"test.npy\")"
   ]
  },
  {
   "cell_type": "code",
   "execution_count": null,
   "id": "399d87a3-f803-4d5b-bf3b-0c133ceb6b3e",
   "metadata": {},
   "outputs": [],
   "source": [
    "x"
   ]
  },
  {
   "cell_type": "code",
   "execution_count": null,
   "id": "3418c327-f1c5-43dd-b038-c3cb340c860e",
   "metadata": {},
   "outputs": [],
   "source": []
  }
 ],
 "metadata": {
  "kernelspec": {
   "display_name": "Python 3",
   "language": "python",
   "name": "python3"
  },
  "language_info": {
   "codemirror_mode": {
    "name": "ipython",
    "version": 3
   },
   "file_extension": ".py",
   "mimetype": "text/x-python",
   "name": "python",
   "nbconvert_exporter": "python",
   "pygments_lexer": "ipython3",
   "version": "3.8.8"
  }
 },
 "nbformat": 4,
 "nbformat_minor": 5
}
