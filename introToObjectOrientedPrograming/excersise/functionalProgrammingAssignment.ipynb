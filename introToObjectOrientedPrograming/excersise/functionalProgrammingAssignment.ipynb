{
 "cells": [
  {
   "cell_type": "code",
   "execution_count": 1,
   "id": "af1db14c-bf87-4fa2-92c7-9494ca209cfd",
   "metadata": {},
   "outputs": [],
   "source": [
    "import gradebookFunctions as gf"
   ]
  },
  {
   "cell_type": "code",
   "execution_count": 2,
   "id": "abfb7a84-2ef6-4c05-8e01-268607690db5",
   "metadata": {},
   "outputs": [],
   "source": [
    "#load the grade book\n",
    "gradeBook=gf.loadGradeBook(\"gradeBook.json\")"
   ]
  },
  {
   "cell_type": "code",
   "execution_count": null,
   "id": "341103cf-b9b0-4a61-a523-652e97002501",
   "metadata": {},
   "outputs": [],
   "source": [
    "### complete these functions and add them to the gradeBookLibrary\n",
    "\n",
    "\"\"\"\n",
    "addAssignmentToAllStudents:add an assignment to all students\n",
    "gradeBook:dict:the grade book\n",
    "assignmentName:str:the name of the assignment\n",
    "assignmentGrades: of floats:a list with all of the assignment grades\n",
    "gradeBook:dict:the grade book\n",
    "return: the updated grade book\n",
    "\"\"\"\n",
    "def addAssignmentToAllStudents(gradeBook,assignmentName,assignmentGrades):\n",
    "    studentNames=list(gradeBook.keys())\n",
    "    for ####:\n",
    "        gradeBook[studentNames[i]][\"assignments\"][assignmentName]=###\n",
    "    return gradeBook"
   ]
  },
  {
   "cell_type": "code",
   "execution_count": 4,
   "id": "e27734b3-a975-4f23-bf1f-ca562230fe25",
   "metadata": {},
   "outputs": [
    {
     "ename": "NameError",
     "evalue": "name 'addAssignmentToAllStudents' is not defined",
     "output_type": "error",
     "traceback": [
      "\u001b[0;31m---------------------------------------------------------------------------\u001b[0m",
      "\u001b[0;31mNameError\u001b[0m                                 Traceback (most recent call last)",
      "\u001b[0;32m<ipython-input-4-7cbbcff4df41>\u001b[0m in \u001b[0;36m<module>\u001b[0;34m\u001b[0m\n\u001b[1;32m      1\u001b[0m \u001b[0;31m#now test it:\u001b[0m\u001b[0;34m\u001b[0m\u001b[0;34m\u001b[0m\u001b[0;34m\u001b[0m\u001b[0m\n\u001b[0;32m----> 2\u001b[0;31m gradeBook=addAssignmentToAllStudents(gradeBook=gradeBook,\n\u001b[0m\u001b[1;32m      3\u001b[0m                            \u001b[0massignmentName\u001b[0m\u001b[0;34m=\u001b[0m\u001b[0;34m\"hwk3\"\u001b[0m\u001b[0;34m,\u001b[0m\u001b[0;34m\u001b[0m\u001b[0;34m\u001b[0m\u001b[0m\n\u001b[1;32m      4\u001b[0m                            assignmentGrades=[0.78,0.88,0.89,0.87,0.72])\n",
      "\u001b[0;31mNameError\u001b[0m: name 'addAssignmentToAllStudents' is not defined"
     ]
    }
   ],
   "source": [
    "#now test it:\n",
    "gradeBook=addAssignmentToAllStudents(gradeBook=gradeBook,\n",
    "                           assignmentName=\"hwk3\",\n",
    "                           assignmentGrades=[0.78,0.88,0.89,0.87,0.72])"
   ]
  },
  {
   "cell_type": "code",
   "execution_count": 5,
   "id": "620de412-862c-403d-98a2-f294aff458a4",
   "metadata": {},
   "outputs": [
    {
     "data": {
      "text/plain": [
       "{'cece': {'age': 27,\n",
       "  'assignments': {'hwk1': 0.94, 'hwk2': 0.83, 'quiz1': 0.77},\n",
       "  'studentid': 54321},\n",
       " 'eric': {'age': 27,\n",
       "  'assignments': {'hwk1': 0.94, 'hwk2': 0.83, 'quiz1': 0.77, 'test1': 0.7},\n",
       "  'studentid': 12345},\n",
       " 'luis': {'age': 27,\n",
       "  'assignments': {'hwk1': 0.94, 'hwk2': 0.83, 'quiz1': 0.77},\n",
       "  'studentid': 123123},\n",
       " 'Anthony': {'age': 6,\n",
       "  'assignments': {'hwk1': 0.91, 'hwk2': 0.55, 'quiz1': 0.99},\n",
       "  'studentid': 43567},\n",
       " 'Hannah': {'age': 24,\n",
       "  'assignments': {'hwk1': 0.81, 'hwk2': 0.75, 'quiz1': 0.99},\n",
       "  'studentid': 88214}}"
      ]
     },
     "execution_count": 5,
     "metadata": {},
     "output_type": "execute_result"
    }
   ],
   "source": [
    "# look at grade book and verify it has been added\n",
    "gradeBook\n"
   ]
  },
  {
   "cell_type": "code",
   "execution_count": null,
   "id": "f28c8bd0-a0ff-483a-a4e5-9fa1ea6237e6",
   "metadata": {},
   "outputs": [],
   "source": [
    "#now add it to gradebookFunctions.py and test it\n",
    "#you will need to restart the kernel every time you change\n",
    "#the gradebookFunction library\n",
    "gf.addAssignmentToAllStudents(gradeBook=gradeBook,\n",
    "                           assignmentName=\"hwk3\",\n",
    "                           assignmentGrades=[0.78,0.88,0.89,0.87,0.72])"
   ]
  },
  {
   "cell_type": "code",
   "execution_count": null,
   "id": "816d94c5-2cd9-4020-bcf2-34bf6cff89f8",
   "metadata": {},
   "outputs": [],
   "source": [
    "\"\"\"\n",
    "removeAssignent:removes an assignment from the student or from all students\n",
    "gradeBook:dict: a dictionary containing all of the grades for the class\n",
    "studentName:str: the student to remove the assignment from or the word \"all\" to remove it from \n",
    "all students\n",
    "returns:None\n",
    "\"\"\"\n",
    "\n",
    "def removeAssignent(gradeBook,assignmentName,studentName=\"all\"):\n",
    "    if(studentName==\"all\"):\n",
    "        #loop through the dictionary of students and delete the assingment\n",
    "        #from all students \n",
    "        \"\"\"\n",
    "        write the appropriate for loop\n",
    "        \"\"\"\n",
    "    else:\n",
    "        del gradeBook[studentName][\"assignments\"][assignmentName] \n",
    "    \n",
    "    return gradeBook\n"
   ]
  },
  {
   "cell_type": "code",
   "execution_count": null,
   "id": "a7fa9002-b5a1-4d9c-ae37-f480c33029b4",
   "metadata": {},
   "outputs": [],
   "source": [
    "#now test it:\n",
    "gradeBook=removeAssignent(gradeBook,\"hwk3\")"
   ]
  },
  {
   "cell_type": "code",
   "execution_count": null,
   "id": "f70222c6-f141-4a11-a292-f4738634c3f3",
   "metadata": {},
   "outputs": [],
   "source": [
    "#now add it to gradebookFunctions.py and test it\n",
    "#you will need to restart the kernel every time you change\n",
    "#the gradebookFunction library\n",
    "gradeBook=gf.removeAssignent(gradeBook,\"hwk3\")"
   ]
  },
  {
   "cell_type": "code",
   "execution_count": null,
   "id": "9e1ba28c-5cb2-49b6-9101-08483234647e",
   "metadata": {},
   "outputs": [],
   "source": [
    "#go ahead and reload the grade book\n",
    "gradeBook=gf.loadGradeBook(\"gradeBook.json\")"
   ]
  },
  {
   "cell_type": "code",
   "execution_count": null,
   "id": "44320292-ddf1-4357-90cc-f64330455309",
   "metadata": {},
   "outputs": [],
   "source": [
    "\"\"\"\n",
    "classAverage:calculate class average\n",
    "gradeBook:dict: a dictionary containg the students\n",
    "assignmentName:str:name of the assignment I am calculating the average score for\n",
    "allAssigments:bool: defaults true average all assignments or just one?\n",
    "return:float:class average\n",
    "\"\"\"\n",
    "\n",
    "def classAverage(gradeBook,assignmentName=\"all\"):\n",
    "    scoreValue=0\n",
    "    numStudents=0\n",
    "    studentScore=0\n",
    "    numAssignments=0\n",
    "    if(assignmentName==\"all\"): \n",
    "        #loop through all students\n",
    "        #for student in ?:\n",
    "            #loop through all student assignments\n",
    "            \"\"\"\n",
    "            \n",
    "            \"\"\"\n",
    "            #zero out the number of assignments\n",
    "            for assignment in gradeBook[student][\"assignments\"]:\n",
    "                \"\"\"\n",
    "                \n",
    "                \"\"\"\n",
    "            #increment the average by adding each students average score to the running total\n",
    "            scoreValue+=studentScore/numAssignments\n",
    "            #increment the # of students\n",
    "            numStudents+=1\n",
    "        \n",
    "        return scoreValue/numStudents\n",
    "    \n",
    "    else:\n",
    "        for student in gradeBook:\n",
    "            scoreValue+=gradeBook[student][\"assignments\"][assignmentName]\n",
    "            numStudents+=1\n",
    "        return scoreValue/numStudents\n",
    "\n"
   ]
  },
  {
   "cell_type": "code",
   "execution_count": null,
   "id": "1f3a9c6e-5a05-4e97-8357-2e15452cc5ec",
   "metadata": {},
   "outputs": [],
   "source": [
    "#calculate the class average\n",
    "gf.classAverage(gradeBook)\n",
    "#should be 0.834"
   ]
  },
  {
   "cell_type": "code",
   "execution_count": null,
   "id": "b8de69a7-e3c1-4445-a3dc-20246d89eef9",
   "metadata": {},
   "outputs": [],
   "source": [
    "#remove hwk 1 and recalculate the average\n",
    "gradeBook=gf.removeAssignent(gradeBook,\"hwk1\")\n",
    "gf.classAverage(gradeBook)\n",
    "#should be 0.8013333333333333"
   ]
  },
  {
   "cell_type": "code",
   "execution_count": null,
   "id": "90926596-e126-471d-9ac0-bc3b94aad070",
   "metadata": {},
   "outputs": [],
   "source": []
  },
  {
   "cell_type": "code",
   "execution_count": null,
   "id": "527d2f10-b062-4f68-b14b-45160cb3f8cc",
   "metadata": {},
   "outputs": [],
   "source": []
  }
 ],
 "metadata": {
  "kernelspec": {
   "display_name": "Python 3",
   "language": "python",
   "name": "python3"
  },
  "language_info": {
   "codemirror_mode": {
    "name": "ipython",
    "version": 3
   },
   "file_extension": ".py",
   "mimetype": "text/x-python",
   "name": "python",
   "nbconvert_exporter": "python",
   "pygments_lexer": "ipython3",
   "version": "3.8.8"
  }
 },
 "nbformat": 4,
 "nbformat_minor": 5
}
