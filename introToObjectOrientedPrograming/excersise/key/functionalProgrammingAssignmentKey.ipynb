{
 "cells": [
  {
   "cell_type": "code",
   "execution_count": 1,
   "id": "af1db14c-bf87-4fa2-92c7-9494ca209cfd",
   "metadata": {},
   "outputs": [],
   "source": [
    "import gradebookFunctions as gf"
   ]
  },
  {
   "cell_type": "code",
   "execution_count": 2,
   "id": "94402ec2-b9cf-4cdb-8c48-afc525b811a7",
   "metadata": {},
   "outputs": [],
   "source": [
    "#load the grade book\n",
    "gradeBook=gf.loadGradeBook(\"gradeBook.json\")"
   ]
  },
  {
   "cell_type": "code",
   "execution_count": 3,
   "id": "875509fd-f05b-4e2d-8a15-65ba12807249",
   "metadata": {},
   "outputs": [],
   "source": [
    "#add assignment hwk 3 to all students\n",
    "#also please take a moment to think about how this function may be buggy\n",
    "#I have written this assignment with a subtle bug \n",
    "gradeBook=gf.addAssignmentToAllStudents(gradeBook=gradeBook,\n",
    "                           assignmentName=\"hwk3\",\n",
    "                           assignmentGrades=[0.78,0.88,0.89,0.87,0.72])\n",
    "\n"
   ]
  },
  {
   "cell_type": "code",
   "execution_count": 4,
   "id": "3d263ab3-4ff8-4271-b646-44517f94eb14",
   "metadata": {},
   "outputs": [
    {
     "data": {
      "text/plain": [
       "{'cece': {'age': 27,\n",
       "  'assignments': {'hwk1': 0.94, 'hwk2': 0.83, 'quiz1': 0.77, 'hwk3': 0.78},\n",
       "  'studentid': 54321},\n",
       " 'eric': {'age': 27,\n",
       "  'assignments': {'hwk1': 0.94,\n",
       "   'hwk2': 0.83,\n",
       "   'quiz1': 0.77,\n",
       "   'test1': 0.7,\n",
       "   'hwk3': 0.88},\n",
       "  'studentid': 12345},\n",
       " 'luis': {'age': 27,\n",
       "  'assignments': {'hwk1': 0.94, 'hwk2': 0.83, 'quiz1': 0.77, 'hwk3': 0.89},\n",
       "  'studentid': 123123},\n",
       " 'Anthony': {'age': 6,\n",
       "  'assignments': {'hwk1': 0.91, 'hwk2': 0.55, 'quiz1': 0.99, 'hwk3': 0.87},\n",
       "  'studentid': 43567},\n",
       " 'Hannah': {'age': 24,\n",
       "  'assignments': {'hwk1': 0.81, 'hwk2': 0.75, 'quiz1': 0.99, 'hwk3': 0.72},\n",
       "  'studentid': 88214}}"
      ]
     },
     "execution_count": 4,
     "metadata": {},
     "output_type": "execute_result"
    }
   ],
   "source": [
    "#remember you can aways inspect the dictionary\n",
    "gradeBook\n"
   ]
  },
  {
   "cell_type": "code",
   "execution_count": 5,
   "id": "e0e256cf-1792-4286-bcdf-900bd6ea3161",
   "metadata": {},
   "outputs": [],
   "source": [
    "#go ahead and reload the grade book\n",
    "gradeBook=gf.loadGradeBook(\"gradeBook.json\")"
   ]
  },
  {
   "cell_type": "code",
   "execution_count": 6,
   "id": "1f3a9c6e-5a05-4e97-8357-2e15452cc5ec",
   "metadata": {},
   "outputs": [
    {
     "data": {
      "text/plain": [
       "0.834"
      ]
     },
     "execution_count": 6,
     "metadata": {},
     "output_type": "execute_result"
    }
   ],
   "source": [
    "#calculate the class average\n",
    "gf.classAverage(gradeBook)"
   ]
  },
  {
   "cell_type": "code",
   "execution_count": 7,
   "id": "b8de69a7-e3c1-4445-a3dc-20246d89eef9",
   "metadata": {},
   "outputs": [
    {
     "data": {
      "text/plain": [
       "0.8013333333333333"
      ]
     },
     "execution_count": 7,
     "metadata": {},
     "output_type": "execute_result"
    }
   ],
   "source": [
    "#remove hwk 1 and recalculate the average\n",
    "gradeBook=gf.removeAssignent(gradeBook,\"hwk1\")\n",
    "gf.classAverage(gradeBook)"
   ]
  },
  {
   "cell_type": "code",
   "execution_count": null,
   "id": "90926596-e126-471d-9ac0-bc3b94aad070",
   "metadata": {},
   "outputs": [],
   "source": []
  }
 ],
 "metadata": {
  "kernelspec": {
   "display_name": "Python 3",
   "language": "python",
   "name": "python3"
  },
  "language_info": {
   "codemirror_mode": {
    "name": "ipython",
    "version": 3
   },
   "file_extension": ".py",
   "mimetype": "text/x-python",
   "name": "python",
   "nbconvert_exporter": "python",
   "pygments_lexer": "ipython3",
   "version": "3.8.8"
  }
 },
 "nbformat": 4,
 "nbformat_minor": 5
}
