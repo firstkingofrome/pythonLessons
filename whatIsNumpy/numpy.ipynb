{
 "cells": [
  {
   "cell_type": "markdown",
   "metadata": {},
   "source": [
    "$\\textbf{Jupyter Notebook and Numpy Tutorial}$\n",
    "<br>\n",
    "$\\frac{Jupyter \\ also \\ supports \\ Latex}{Which  \\ is \\ very \\ usefull}$\n",
    "\n"
   ]
  },
  {
   "cell_type": "code",
   "execution_count": 7,
   "metadata": {},
   "outputs": [],
   "source": [
    "import numpy as np"
   ]
  },
  {
   "attachments": {},
   "cell_type": "markdown",
   "metadata": {},
   "source": [
    "Numpy is a python library provides a lot of matlab like behavior (the most important behavior being the matrix opperations and speed)\n",
    "<br>\n",
    "The most important thing to consider is the the fundamental numpy data type, the numpy array (explain how it is preallocated and typed and very fast)\n",
    "<br>\n",
    "The first properties that I would like us to consider are shape and data type (from [Here](https://www.google.com/url?sa=i&rct=j&q=&esrc=s&source=images&cd=&cad=rja&uact=8&ved=2ahUKEwilvODqtpXcAhW3GDQIHYtyC70QjRx6BAgBEAU&url=https%3A%2F%2Fwww.safaribooksonline.com%2Flibrary%2Fview%2Felegant-scipy%2F9781491922927%2Fch01.html&psig=AOvVaw2Z2m_p7p6BjMc3JE1qgTgf&ust=1531342563178360))\n",
    "![numpy array indexing](https://www.safaribooksonline.com/library/view/elegant-scipy/9781491922927/assets/elsp_0105.png)\n"
   ]
  },
  {
   "cell_type": "code",
   "execution_count": 8,
   "metadata": {},
   "outputs": [
    {
     "name": "stdout",
     "output_type": "stream",
     "text": [
      "(10000,)\n",
      "(100, 100)\n",
      "[[1. 0. 0. ... 0. 0. 0.]\n",
      " [1. 0. 0. ... 0. 0. 0.]\n",
      " [1. 0. 0. ... 0. 0. 0.]\n",
      " ...\n",
      " [1. 0. 0. ... 0. 0. 0.]\n",
      " [1. 0. 0. ... 0. 0. 0.]\n",
      " [1. 0. 0. ... 0. 0. 0.]]\n",
      "[1. 0. 0. ... 0. 0. 0.]\n"
     ]
    }
   ],
   "source": [
    "#for example lets do some linear algebra\n",
    "oneD = np.zeros((10000,), dtype=np.float32)\n",
    "print(oneD.shape)\n",
    "twoD = oneD.reshape(np.int(np.sqrt(oneD.shape[0])),np.int(np.sqrt(oneD.shape[0])))\n",
    "print(twoD.shape)\n",
    "twoD[:,0] = 1\n",
    "print(twoD)\n",
    "#potential pitfall\n",
    "print(oneD)\n",
    "#if you actuall wanted to copy them to sepperately\n",
    "oneD = np.zeros((10000,), dtype=np.float32)\n",
    "twoD = np.copy(oneD.reshape(np.int(np.sqrt(oneD.shape[0])),np.int(np.sqrt(oneD.shape[0]))))"
   ]
  },
  {
   "cell_type": "markdown",
   "metadata": {},
   "source": [
    "Since numpy is mostly written in C almost anything that you can do with numpy functions will be faster than doing the same with pure python functions. \n",
    "I think that this a good resource: https://www.python-course.eu/numpy.php"
   ]
  },
  {
   "cell_type": "code",
   "execution_count": null,
   "metadata": {},
   "outputs": [],
   "source": []
  },
  {
   "cell_type": "code",
   "execution_count": null,
   "metadata": {},
   "outputs": [],
   "source": []
  }
 ],
 "metadata": {
  "kernelspec": {
   "display_name": "Python 2",
   "language": "python",
   "name": "python2"
  },
  "language_info": {
   "codemirror_mode": {
    "name": "ipython",
    "version": 2
   },
   "file_extension": ".py",
   "mimetype": "text/x-python",
   "name": "python",
   "nbconvert_exporter": "python",
   "pygments_lexer": "ipython2",
   "version": "2.7.14"
  }
 },
 "nbformat": 4,
 "nbformat_minor": 2
}
