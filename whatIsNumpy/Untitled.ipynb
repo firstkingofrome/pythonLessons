{
 "cells": [
  {
   "cell_type": "code",
   "execution_count": 1,
   "id": "05c4f455-8007-4ef6-a451-209f3cd26651",
   "metadata": {},
   "outputs": [],
   "source": [
    "\n",
    "\n",
    "\"\"\"\n",
    "loadTxt\n",
    "\n",
    "this function loads the \n",
    "\n",
    "inputs:\n",
    "\n",
    "\n",
    "\n",
    "returns:\n",
    "\n",
    "\n",
    "\n",
    "\"\"\"\n",
    "\n",
    "def loadTides():\n",
    "    return\n",
    "\n",
    "\n",
    "\n",
    "\n",
    "def loadSeismic():\n",
    "    return\n",
    "\n"
   ]
  },
  {
   "cell_type": "code",
   "execution_count": 5,
   "id": "7573bab3-1ec1-4d2a-9225-711a615bb4ba",
   "metadata": {},
   "outputs": [],
   "source": [
    "def example(arg1,arg2,arg3):\n",
    "    \n",
    "    return(arg1*arg2*arg3)\n",
    "\n"
   ]
  },
  {
   "cell_type": "code",
   "execution_count": 7,
   "id": "602b4bc5-5c5a-45a6-ab89-29b3ad6d77ee",
   "metadata": {},
   "outputs": [
    {
     "data": {
      "text/plain": [
       "6"
      ]
     },
     "execution_count": 7,
     "metadata": {},
     "output_type": "execute_result"
    }
   ],
   "source": [
    "example(1,2,3)"
   ]
  },
  {
   "cell_type": "code",
   "execution_count": null,
   "id": "d40acea6-baab-457d-bb7b-8158d47fc4db",
   "metadata": {},
   "outputs": [],
   "source": []
  }
 ],
 "metadata": {
  "kernelspec": {
   "display_name": "Python 3",
   "language": "python",
   "name": "python3"
  },
  "language_info": {
   "codemirror_mode": {
    "name": "ipython",
    "version": 3
   },
   "file_extension": ".py",
   "mimetype": "text/x-python",
   "name": "python",
   "nbconvert_exporter": "python",
   "pygments_lexer": "ipython3",
   "version": "3.8.8"
  }
 },
 "nbformat": 4,
 "nbformat_minor": 5
}
